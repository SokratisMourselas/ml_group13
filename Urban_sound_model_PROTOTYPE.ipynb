{
 "cells": [
  {
   "cell_type": "raw",
   "metadata": {},
   "source": []
  },
  {
   "cell_type": "markdown",
   "metadata": {},
   "source": [
    "<b>This initial pre-processing and model has been taken from the work of:</b> <br/>Khera, A. 2019. Urban Sound Classification [Source code]. Available at: https://github.com/AmritK10/Urban-Sound-Classification [Accessed: 02 March 2020]."
   ]
  },
  {
   "cell_type": "code",
   "execution_count": 1,
   "metadata": {},
   "outputs": [],
   "source": [
    "import pandas as pd\n",
    "import numpy as np\n",
    "import matplotlib.pyplot as plt\n",
    "import os\n",
    "from tqdm import tqdm\n",
    "import librosa"
   ]
  },
  {
   "cell_type": "markdown",
   "metadata": {},
   "source": [
    "# This part only has to run once"
   ]
  },
  {
   "cell_type": "code",
   "execution_count": 80,
   "metadata": {},
   "outputs": [
    {
     "data": {
      "text/plain": [
       "['air_conditioner',\n",
       " 'car_horn',\n",
       " 'children_playing',\n",
       " 'dog_bark',\n",
       " 'drilling',\n",
       " 'engine_idling',\n",
       " 'gun_shot',\n",
       " 'jackhammer',\n",
       " 'siren',\n",
       " 'street_music']"
      ]
     },
     "execution_count": 80,
     "metadata": {},
     "output_type": "execute_result"
    }
   ],
   "source": [
    "\n",
    "#forming a panda dataframe from the metadata file\n",
    "# data=pd.read_csv(\"UrbanSound8K.csv\")\n",
    "# classes = pd.DataFrame(data[['classID', 'class']].groupby(['classID', 'class']).count())\n",
    "\n",
    "# Write the classes to a csv file\n",
    "# Writing the data into csn form to use in d3.js\n",
    "\n",
    "# classes.to_csv(r'classes.csv')"
   ]
  },
  {
   "cell_type": "code",
   "execution_count": 2,
   "metadata": {},
   "outputs": [],
   "source": [
    "# reading the csv file with the metadata\n",
    "# data=pd.read_csv(\"UrbanSound8K/metadata/UrbanSound8K.csv\")"
   ]
  },
  {
   "cell_type": "code",
   "execution_count": 7,
   "metadata": {},
   "outputs": [],
   "source": [
    "#preprocessing using only mfcc\n",
    "# x_train=[]\n",
    "# x_test=[]\n",
    "# y_train=[]\n",
    "# y_test=[]\n",
    "# path=\"UrbanSound8K/audio/fold\"\n",
    "# for i in tqdm(range(len(data))):\n",
    "#     fold_no=str(data.iloc[i][\"fold\"])\n",
    "#     file=data.iloc[i][\"slice_file_name\"]\n",
    "#     label=data.iloc[i][\"classID\"]\n",
    "#     filename=path+fold_no+\"/\"+file\n",
    "#     print(filename)\n",
    "#     y,sr=librosa.load(filename)\n",
    "#     mfccs = np.mean(librosa.feature.mfcc(y, sr, n_mfcc=40).T,axis=0)\n",
    "#     print(mfccs.shape,mfccs.max(),mfccs.min())\n",
    "#     if(fold_no!='10'):\n",
    "#       x_train.append(mfccs)\n",
    "#       y_train.append(label)\n",
    "#     else:\n",
    "#       x_test.append(mfccs)\n",
    "#       y_test.append(label)"
   ]
  },
  {
   "cell_type": "code",
   "execution_count": 4,
   "metadata": {},
   "outputs": [],
   "source": [
    "#preprocessing using entire feature set\n",
    "# x_train=[]\n",
    "# x_test=[]\n",
    "# y_train=[]\n",
    "# y_test=[]\n",
    "# path=\"UrbanSound8K/audio/fold\"\n",
    "# for i in tqdm(range(len(data))):\n",
    "#     fold_no=str(data.iloc[i][\"fold\"])\n",
    "#     file=data.iloc[i][\"slice_file_name\"]\n",
    "#     label=data.iloc[i][\"classID\"]\n",
    "#     filename=path+fold_no+\"/\"+file\n",
    "#     y,sr=librosa.load(filename)\n",
    "#     mfccs = np.mean(librosa.feature.mfcc(y, sr, n_mfcc=40).T,axis=0)\n",
    "#     melspectrogram = np.mean(librosa.feature.melspectrogram(y=y, sr=sr, n_mels=40,fmax=8000).T,axis=0)\n",
    "#     chroma_stft=np.mean(librosa.feature.chroma_stft(y=y, sr=sr,n_chroma=40).T,axis=0)\n",
    "#     chroma_cq = np.mean(librosa.feature.chroma_cqt(y=y, sr=sr,n_chroma=40).T,axis=0)\n",
    "#     chroma_cens = np.mean(librosa.feature.chroma_cens(y=y, sr=sr,n_chroma=40).T,axis=0)\n",
    "#     features=np.reshape(np.vstack((mfccs,melspectrogram,chroma_stft,chroma_cq,chroma_cens)),(40,5))\n",
    "#     if(fold_no!='10'):\n",
    "#       x_train.append(features)\n",
    "#       y_train.append(label)\n",
    "#     else:\n",
    "#       x_test.append(features)\n",
    "#       y_test.append(label)"
   ]
  },
  {
   "cell_type": "code",
   "execution_count": null,
   "metadata": {},
   "outputs": [],
   "source": [
    "# converting the lists into numpy arrays\n",
    "# x_train=np.array(x_train)\n",
    "# x_test=np.array(x_test)\n",
    "# y_train=np.array(y_train)\n",
    "# y_test=np.array(y_test)\n",
    "\n",
    "# # shape\n",
    "# x_train.shape,x_test.shape,y_train.shape,y_test.shape"
   ]
  },
  {
   "cell_type": "code",
   "execution_count": null,
   "metadata": {},
   "outputs": [],
   "source": [
    "# #reshaping into 2d to save in csv format\n",
    "# x_train_2d=np.reshape(x_train,(x_train.shape[0],x_train.shape[1]*x_train.shape[2]))\n",
    "# x_test_2d=np.reshape(x_test,(x_test.shape[0],x_test.shape[1]*x_test.shape[2]))\n",
    "# x_train_2d.shape,x_test_2d.shape\n",
    "\n",
    "# #saving the data numpy arrays\n",
    "# np.savetxt(\"train_data.csv\", x_train_2d, delimiter=\",\")\n",
    "# np.savetxt(\"test_data.csv\",x_test_2d,delimiter=\",\")\n",
    "# np.savetxt(\"train_labels.csv\",y_train,delimiter=\",\")\n",
    "# np.savetxt(\"test_labels.csv\",y_test,delimiter=\",\")"
   ]
  },
  {
   "cell_type": "markdown",
   "metadata": {},
   "source": [
    "# Unitl this point no need to run more than once, the rest is the model"
   ]
  },
  {
   "cell_type": "code",
   "execution_count": 27,
   "metadata": {},
   "outputs": [],
   "source": [
    "#extracting data from csv files into numpy arrays\n",
    "from numpy import genfromtxt\n",
    "x_train = genfromtxt('train_data.csv', delimiter=',')\n",
    "y_train = genfromtxt('train_labels.csv', delimiter=',')\n",
    "x_test = genfromtxt('test_data.csv', delimiter=',')\n",
    "y_test = genfromtxt('test_labels.csv', delimiter=',')\n",
    "y_test_a = genfromtxt('test_labels.csv', delimiter=',')"
   ]
  },
  {
   "cell_type": "code",
   "execution_count": 18,
   "metadata": {},
   "outputs": [
    {
     "data": {
      "text/plain": [
       "((7895, 10), (837, 10))"
      ]
     },
     "execution_count": 18,
     "metadata": {},
     "output_type": "execute_result"
    }
   ],
   "source": [
    "#converting to one hot encoder\n",
    "from keras.utils.np_utils import to_categorical\n",
    "y_train = to_categorical(y_train, num_classes=10)\n",
    "y_test = to_categorical(y_test, num_classes=10)\n",
    "y_train.shape,y_test.shape"
   ]
  },
  {
   "cell_type": "code",
   "execution_count": null,
   "metadata": {},
   "outputs": [],
   "source": []
  },
  {
   "cell_type": "code",
   "execution_count": 28,
   "metadata": {},
   "outputs": [
    {
     "data": {
      "text/plain": [
       "((7895, 200, 1), (837, 200, 1))"
      ]
     },
     "execution_count": 28,
     "metadata": {},
     "output_type": "execute_result"
    }
   ],
   "source": [
    "#reshaping to 1D \n",
    "x_train=np.reshape(x_train,(x_train.shape[0], 200, 1))\n",
    "x_test=np.reshape(x_test,(x_test.shape[0], 200, 1))\n",
    "x_train.shape,x_test.shape"
   ]
  },
  {
   "cell_type": "code",
   "execution_count": 29,
   "metadata": {},
   "outputs": [
    {
     "data": {
      "text/plain": [
       "((7895, 40, 5), (837, 40, 5))"
      ]
     },
     "execution_count": 29,
     "metadata": {},
     "output_type": "execute_result"
    }
   ],
   "source": [
    "#reshaping to 2D \n",
    "x_train=np.reshape(x_train,(x_train.shape[0], 40,5))\n",
    "x_test=np.reshape(x_test,(x_test.shape[0], 40,5))\n",
    "x_train.shape,x_test.shape"
   ]
  },
  {
   "cell_type": "code",
   "execution_count": 19,
   "metadata": {},
   "outputs": [
    {
     "data": {
      "text/plain": [
       "((7895, 40, 5, 1), (837, 40, 5, 1))"
      ]
     },
     "execution_count": 19,
     "metadata": {},
     "output_type": "execute_result"
    }
   ],
   "source": [
    "#reshaping to shape required by CNN\n",
    "x_train=np.reshape(x_train,(x_train.shape[0], 40,5,1))\n",
    "x_test=np.reshape(x_test,(x_test.shape[0], 40,5,1))\n",
    "x_train.shape,x_test.shape"
   ]
  },
  {
   "cell_type": "code",
   "execution_count": 20,
   "metadata": {},
   "outputs": [
    {
     "data": {
      "text/plain": [
       "((7895, 40, 5, 1), (837, 40, 5, 1), (7895, 10), (837, 10))"
      ]
     },
     "execution_count": 20,
     "metadata": {},
     "output_type": "execute_result"
    }
   ],
   "source": [
    "#shapes\n",
    "x_train.shape,x_test.shape, y_train.shape, y_test.shape"
   ]
  },
  {
   "cell_type": "code",
   "execution_count": 11,
   "metadata": {},
   "outputs": [],
   "source": [
    "from keras import Sequential\n",
    "from keras.layers import Dense,Conv2D,MaxPooling2D,Flatten,Dropout\n",
    "from keras.callbacks import EarlyStopping"
   ]
  },
  {
   "cell_type": "code",
   "execution_count": 9,
   "metadata": {},
   "outputs": [
    {
     "name": "stdout",
     "output_type": "stream",
     "text": [
      "WARNING:tensorflow:From /Users/sokratismourselas/opt/anaconda3/envs/r_env/lib/python3.7/site-packages/keras/backend/tensorflow_backend.py:74: The name tf.get_default_graph is deprecated. Please use tf.compat.v1.get_default_graph instead.\n",
      "\n"
     ]
    }
   ],
   "source": []
  },
  {
   "cell_type": "code",
   "execution_count": 21,
   "metadata": {},
   "outputs": [
    {
     "name": "stdout",
     "output_type": "stream",
     "text": [
      "Train on 7895 samples, validate on 837 samples\n",
      "Epoch 1/30\n",
      "7895/7895 [==============================] - 11s 1ms/step - loss: 1.9706 - acc: 0.3111 - val_loss: 1.5121 - val_acc: 0.4695\n",
      "Epoch 2/30\n",
      "7895/7895 [==============================] - 9s 1ms/step - loss: 1.3246 - acc: 0.5476 - val_loss: 1.1910 - val_acc: 0.6380\n",
      "Epoch 3/30\n",
      "7895/7895 [==============================] - 9s 1ms/step - loss: 1.0466 - acc: 0.6443 - val_loss: 1.1218 - val_acc: 0.6392\n",
      "Epoch 4/30\n",
      "7895/7895 [==============================] - 9s 1ms/step - loss: 0.8803 - acc: 0.7037 - val_loss: 1.0632 - val_acc: 0.6511\n",
      "Epoch 5/30\n",
      "7895/7895 [==============================] - 9s 1ms/step - loss: 0.7539 - acc: 0.7426 - val_loss: 1.1265 - val_acc: 0.6523\n",
      "Epoch 6/30\n",
      "7895/7895 [==============================] - 9s 1ms/step - loss: 0.6945 - acc: 0.7702 - val_loss: 0.9793 - val_acc: 0.6930\n",
      "Epoch 7/30\n",
      "7895/7895 [==============================] - 9s 1ms/step - loss: 0.6445 - acc: 0.7895 - val_loss: 0.9872 - val_acc: 0.7061\n",
      "Epoch 8/30\n",
      "7895/7895 [==============================] - 9s 1ms/step - loss: 0.5604 - acc: 0.8125 - val_loss: 1.1255 - val_acc: 0.6535\n",
      "Epoch 9/30\n",
      "7895/7895 [==============================] - 9s 1ms/step - loss: 0.5048 - acc: 0.8347 - val_loss: 0.9437 - val_acc: 0.7180\n",
      "Epoch 10/30\n",
      "7895/7895 [==============================] - 9s 1ms/step - loss: 0.5082 - acc: 0.8298 - val_loss: 0.9648 - val_acc: 0.6989\n",
      "Epoch 11/30\n",
      "7895/7895 [==============================] - 9s 1ms/step - loss: 0.4861 - acc: 0.8381 - val_loss: 1.0250 - val_acc: 0.7204\n",
      "Epoch 12/30\n",
      "7895/7895 [==============================] - 9s 1ms/step - loss: 0.4369 - acc: 0.8621 - val_loss: 0.9151 - val_acc: 0.6798\n",
      "Epoch 13/30\n",
      "7895/7895 [==============================] - 9s 1ms/step - loss: 0.4459 - acc: 0.8533 - val_loss: 1.0272 - val_acc: 0.6858\n",
      "Epoch 14/30\n",
      "7895/7895 [==============================] - 9s 1ms/step - loss: 0.4255 - acc: 0.8599 - val_loss: 1.0282 - val_acc: 0.6953\n",
      "Epoch 15/30\n",
      "7895/7895 [==============================] - 9s 1ms/step - loss: 0.3666 - acc: 0.8745 - val_loss: 0.8665 - val_acc: 0.7348\n",
      "Epoch 16/30\n",
      "7895/7895 [==============================] - 9s 1ms/step - loss: 0.3442 - acc: 0.8850 - val_loss: 1.0093 - val_acc: 0.6965\n",
      "Epoch 17/30\n",
      "7895/7895 [==============================] - 9s 1ms/step - loss: 0.3260 - acc: 0.8913 - val_loss: 0.9169 - val_acc: 0.7216\n",
      "Epoch 18/30\n",
      "7895/7895 [==============================] - 9s 1ms/step - loss: 0.3336 - acc: 0.8930 - val_loss: 1.0777 - val_acc: 0.6941\n",
      "Epoch 19/30\n",
      "7895/7895 [==============================] - 9s 1ms/step - loss: 0.3209 - acc: 0.8932 - val_loss: 1.0053 - val_acc: 0.7180\n",
      "Epoch 20/30\n",
      "7895/7895 [==============================] - 9s 1ms/step - loss: 0.3404 - acc: 0.8878 - val_loss: 1.1414 - val_acc: 0.6894\n",
      "Epoch 21/30\n",
      "7895/7895 [==============================] - 9s 1ms/step - loss: 0.3063 - acc: 0.8989 - val_loss: 1.0826 - val_acc: 0.6738\n",
      "Epoch 22/30\n",
      "7895/7895 [==============================] - 9s 1ms/step - loss: 0.2819 - acc: 0.9083 - val_loss: 1.0533 - val_acc: 0.6822\n",
      "Epoch 23/30\n",
      "7895/7895 [==============================] - 9s 1ms/step - loss: 0.2622 - acc: 0.9146 - val_loss: 1.0598 - val_acc: 0.6798\n",
      "Epoch 24/30\n",
      "7895/7895 [==============================] - 9s 1ms/step - loss: 0.2713 - acc: 0.9110 - val_loss: 0.9811 - val_acc: 0.7109\n",
      "Epoch 25/30\n",
      "7895/7895 [==============================] - 9s 1ms/step - loss: 0.2649 - acc: 0.9116 - val_loss: 1.1720 - val_acc: 0.6750\n",
      "Epoch 26/30\n",
      "7895/7895 [==============================] - 9s 1ms/step - loss: 0.2869 - acc: 0.9103 - val_loss: 1.0972 - val_acc: 0.6965\n",
      "Epoch 27/30\n",
      "7895/7895 [==============================] - 9s 1ms/step - loss: 0.2758 - acc: 0.9153 - val_loss: 1.0930 - val_acc: 0.6989\n",
      "Epoch 28/30\n",
      "7895/7895 [==============================] - 9s 1ms/step - loss: 0.2444 - acc: 0.9205 - val_loss: 0.9616 - val_acc: 0.7348\n",
      "Epoch 29/30\n",
      "7895/7895 [==============================] - 9s 1ms/step - loss: 0.2456 - acc: 0.9218 - val_loss: 1.0335 - val_acc: 0.7013\n",
      "Epoch 30/30\n",
      "7895/7895 [==============================] - 9s 1ms/step - loss: 0.2300 - acc: 0.9245 - val_loss: 1.0622 - val_acc: 0.7097\n"
     ]
    }
   ],
   "source": [
    "# Model from GitHub\n",
    "\n",
    "#adding layers and forming the model\n",
    "\n",
    "#forming model\n",
    "model=Sequential()\n",
    "\n",
    "model.add(Conv2D(64,kernel_size=5,strides=1,padding=\"Same\",activation=\"relu\",input_shape=(40,5,1)))\n",
    "model.add(MaxPooling2D(padding=\"same\"))\n",
    "\n",
    "model.add(Conv2D(128,kernel_size=5,strides=1,padding=\"same\",activation=\"relu\"))\n",
    "model.add(MaxPooling2D(padding=\"same\"))\n",
    "model.add(Dropout(0.3))\n",
    "\n",
    "model.add(Flatten())\n",
    "\n",
    "model.add(Dense(256,activation=\"relu\"))\n",
    "model.add(Dropout(0.3))\n",
    "\n",
    "model.add(Dense(512,activation=\"relu\"))\n",
    "model.add(Dropout(0.3))\n",
    "\n",
    "model.add(Dense(10,activation=\"softmax\"))\n",
    "\n",
    "#compiling\n",
    "model.compile(optimizer=\"adam\",loss=\"categorical_crossentropy\",metrics=[\"accuracy\"])\n",
    "\n",
    "#training the model\n",
    "model_history = model.fit(x_train,y_train,batch_size=50,epochs=30,validation_data=(x_test,y_test))"
   ]
  },
  {
   "cell_type": "code",
   "execution_count": 50,
   "metadata": {
    "scrolled": true
   },
   "outputs": [
    {
     "name": "stdout",
     "output_type": "stream",
     "text": [
      "Train on 7105 samples, validate on 790 samples\n",
      "Epoch 1/60\n",
      "7105/7105 [==============================] - 2s 273us/step - loss: 8.5239 - acc: 0.1863 - val_loss: 3.7180 - val_acc: 0.1671\n",
      "Epoch 2/60\n",
      "7105/7105 [==============================] - 1s 111us/step - loss: 1.7833 - acc: 0.3892 - val_loss: 5.7342 - val_acc: 0.1468\n",
      "Epoch 3/60\n",
      "7105/7105 [==============================] - 1s 111us/step - loss: 1.5157 - acc: 0.4930 - val_loss: 3.2043 - val_acc: 0.2456\n",
      "Epoch 4/60\n",
      "7105/7105 [==============================] - 1s 111us/step - loss: 1.2926 - acc: 0.5495 - val_loss: 6.9493 - val_acc: 0.2051\n",
      "Epoch 5/60\n",
      "7105/7105 [==============================] - 1s 111us/step - loss: 1.3581 - acc: 0.5552 - val_loss: 2.6886 - val_acc: 0.3266\n",
      "Epoch 6/60\n",
      "7105/7105 [==============================] - 1s 112us/step - loss: 1.1341 - acc: 0.6115 - val_loss: 3.9128 - val_acc: 0.2785\n",
      "Epoch 7/60\n",
      "7105/7105 [==============================] - 1s 113us/step - loss: 1.0652 - acc: 0.6418 - val_loss: 2.2325 - val_acc: 0.4038\n",
      "Epoch 8/60\n",
      "7105/7105 [==============================] - 1s 111us/step - loss: 0.9735 - acc: 0.6691 - val_loss: 3.3926 - val_acc: 0.3557\n",
      "Epoch 9/60\n",
      "7105/7105 [==============================] - 1s 111us/step - loss: 0.9919 - acc: 0.6608 - val_loss: 2.8906 - val_acc: 0.3899\n",
      "Epoch 10/60\n",
      "7105/7105 [==============================] - 1s 111us/step - loss: 0.9065 - acc: 0.6973 - val_loss: 3.6550 - val_acc: 0.2911\n",
      "Epoch 11/60\n",
      "7105/7105 [==============================] - 1s 112us/step - loss: 0.8923 - acc: 0.6998 - val_loss: 2.3681 - val_acc: 0.4177\n",
      "Epoch 12/60\n",
      "7105/7105 [==============================] - 1s 112us/step - loss: 0.8264 - acc: 0.7189 - val_loss: 2.3132 - val_acc: 0.3949\n",
      "Epoch 13/60\n",
      "7105/7105 [==============================] - 1s 111us/step - loss: 0.7845 - acc: 0.7393 - val_loss: 4.5927 - val_acc: 0.2608\n",
      "Epoch 14/60\n",
      "7105/7105 [==============================] - 1s 113us/step - loss: 0.8014 - acc: 0.7285 - val_loss: 10.3082 - val_acc: 0.2139\n",
      "Epoch 15/60\n",
      "7105/7105 [==============================] - 1s 113us/step - loss: 1.2003 - acc: 0.6625 - val_loss: 2.3778 - val_acc: 0.3975\n",
      "Epoch 16/60\n",
      "7105/7105 [==============================] - 1s 114us/step - loss: 0.7641 - acc: 0.7369 - val_loss: 3.0649 - val_acc: 0.3405\n",
      "Epoch 17/60\n",
      "7105/7105 [==============================] - 1s 114us/step - loss: 0.7363 - acc: 0.7461 - val_loss: 2.5075 - val_acc: 0.4354\n",
      "Epoch 18/60\n",
      "7105/7105 [==============================] - 1s 113us/step - loss: 0.6843 - acc: 0.7679 - val_loss: 2.5098 - val_acc: 0.4038\n",
      "Epoch 19/60\n",
      "7105/7105 [==============================] - 1s 113us/step - loss: 0.6660 - acc: 0.7727 - val_loss: 10.8824 - val_acc: 0.2127\n",
      "Epoch 20/60\n",
      "7105/7105 [==============================] - 1s 115us/step - loss: 0.9161 - acc: 0.7196 - val_loss: 2.4983 - val_acc: 0.4494\n",
      "Epoch 21/60\n",
      "7105/7105 [==============================] - 1s 117us/step - loss: 0.6844 - acc: 0.7676 - val_loss: 2.8592 - val_acc: 0.4354\n",
      "Epoch 22/60\n",
      "7105/7105 [==============================] - 1s 118us/step - loss: 0.6545 - acc: 0.7742 - val_loss: 2.5220 - val_acc: 0.4481\n",
      "Epoch 23/60\n",
      "7105/7105 [==============================] - 1s 112us/step - loss: 0.6181 - acc: 0.7873 - val_loss: 2.9272 - val_acc: 0.4139\n",
      "Epoch 24/60\n",
      "7105/7105 [==============================] - 1s 110us/step - loss: 0.5930 - acc: 0.7994 - val_loss: 7.9137 - val_acc: 0.2114\n",
      "Epoch 25/60\n",
      "7105/7105 [==============================] - 1s 109us/step - loss: 0.6896 - acc: 0.7783 - val_loss: 2.7529 - val_acc: 0.4165\n",
      "Epoch 26/60\n",
      "7105/7105 [==============================] - 1s 109us/step - loss: 0.5597 - acc: 0.8131 - val_loss: 3.0181 - val_acc: 0.4278\n",
      "Epoch 27/60\n",
      "7105/7105 [==============================] - 1s 110us/step - loss: 0.5465 - acc: 0.8160 - val_loss: 3.1645 - val_acc: 0.3949\n",
      "837/837 [==============================] - 0s 42us/step\n"
     ]
    },
    {
     "data": {
      "text/plain": [
       "[1.490253917240897, 0.5304659498207885]"
      ]
     },
     "execution_count": 50,
     "metadata": {},
     "output_type": "execute_result"
    }
   ],
   "source": [
    "#forming model with early stopping\n",
    "early_stopping_cb = EarlyStopping(patience=20, restore_best_weights=True)\n",
    "model = Sequential()\n",
    "model.add(Flatten(input_shape=[40, 5]))\n",
    "model.add(Dense(300, activation=\"relu\"))   \n",
    "model.add(Dense(100, activation=\"relu\"))\n",
    "model.add(Dense(10, activation=\"softmax\"))\n",
    "model.compile(loss = \"sparse_categorical_crossentropy\", optimizer=\"sgd\", metrics = [\"accuracy\"])\n",
    "ReLU_Early_Stop_history = model.fit(x_train, y_train, epochs = 60, validation_split=0.1, callbacks=[early_stopping_cb])\n",
    "model.evaluate(x_test, y_test)"
   ]
  },
  {
   "cell_type": "code",
   "execution_count": null,
   "metadata": {},
   "outputs": [],
   "source": []
  },
  {
   "cell_type": "code",
   "execution_count": 31,
   "metadata": {},
   "outputs": [
    {
     "name": "stdout",
     "output_type": "stream",
     "text": [
      "7895/7895 [==============================] - 0s 42us/step\n",
      "837/837 [==============================] - 0s 42us/step\n",
      "[0.9345611502775926, 0.6822039265244576]\n",
      "[1.4766675176871151, 0.5053763441216276]\n"
     ]
    }
   ],
   "source": [
    "#train and test loss and scores respectively\n",
    "train_loss_score=model.evaluate(x_train,y_train)\n",
    "test_loss_score=model.evaluate(x_test,y_test)\n",
    "print(train_loss_score)\n",
    "print(test_loss_score)"
   ]
  },
  {
   "cell_type": "code",
   "execution_count": 23,
   "metadata": {},
   "outputs": [],
   "source": []
  },
  {
   "cell_type": "code",
   "execution_count": 91,
   "metadata": {},
   "outputs": [
    {
     "data": {
      "image/png": "[encoded data removed]",
      "text/plain": [
       "<Figure size 864x720 with 2 Axes>"
      ]
     },
     "metadata": {
      "needs_background": "light"
     },
     "output_type": "display_data"
    }
   ],
   "source": [
    "y_test_pred = model.predict_classes(x_test)\n",
    "\n",
    "classes = pd.read_csv(\"classes.csv\")\n",
    "classes = classes['class'].tolist()\n",
    "\n",
    "axis_labels = classes # labels for x-axis\n",
    "\n",
    "# create seabvorn heatmap with required labels\n",
    "\n",
    "\n",
    "import sklearn\n",
    "array = sklearn.metrics.confusion_matrix(y_test_a, y_test_pred)\n",
    "import seaborn as sn\n",
    "import pandas as pd\n",
    "import matplotlib.pyplot as plt\n",
    "plt.figure(figsize = (12, 10))\n",
    "sn.heatmap(array, annot=True, xticklabels=axis_labels, yticklabels=axis_labels)\n",
    "# fixing axis that are cut otherwise\n",
    "b, t = plt.ylim()\n",
    "b += 0.5\n",
    "t -= 0.5\n",
    "plt.ylim(b, t)\n",
    "plt.show()"
   ]
  },
  {
   "cell_type": "code",
   "execution_count": 35,
   "metadata": {},
   "outputs": [
    {
     "name": "stdout",
     "output_type": "stream",
     "text": [
      "Train on 7895 samples, validate on 837 samples\n",
      "Epoch 1/30\n",
      "7895/7895 [==============================] - 1s 188us/step - loss: 7.0121 - acc: 0.2267 - val_loss: 2.1269 - val_acc: 0.3274\n",
      "Epoch 2/30\n",
      "7895/7895 [==============================] - 1s 76us/step - loss: 1.6388 - acc: 0.4438 - val_loss: 1.7643 - val_acc: 0.4122\n",
      "Epoch 3/30\n",
      "7895/7895 [==============================] - 1s 74us/step - loss: 1.4359 - acc: 0.5093 - val_loss: 1.6219 - val_acc: 0.4492\n",
      "Epoch 4/30\n",
      "7895/7895 [==============================] - 1s 74us/step - loss: 1.2848 - acc: 0.5601 - val_loss: 1.6251 - val_acc: 0.5185\n",
      "Epoch 5/30\n",
      "7895/7895 [==============================] - 1s 74us/step - loss: 1.1887 - acc: 0.5900 - val_loss: 1.5995 - val_acc: 0.4934\n",
      "Epoch 6/30\n",
      "7895/7895 [==============================] - 1s 74us/step - loss: 1.1280 - acc: 0.6152 - val_loss: 1.5213 - val_acc: 0.4755\n",
      "Epoch 7/30\n",
      "7895/7895 [==============================] - 1s 74us/step - loss: 1.0763 - acc: 0.6299 - val_loss: 1.4903 - val_acc: 0.5663\n",
      "Epoch 8/30\n",
      "7895/7895 [==============================] - 1s 74us/step - loss: 1.0171 - acc: 0.6490 - val_loss: 1.6350 - val_acc: 0.4540\n",
      "Epoch 9/30\n",
      "7895/7895 [==============================] - 1s 75us/step - loss: 0.9588 - acc: 0.6633 - val_loss: 1.5495 - val_acc: 0.5245\n",
      "Epoch 10/30\n",
      "7895/7895 [==============================] - 1s 75us/step - loss: 0.9480 - acc: 0.6774 - val_loss: 1.5346 - val_acc: 0.5388\n",
      "Epoch 11/30\n",
      "7895/7895 [==============================] - 1s 75us/step - loss: 0.9066 - acc: 0.6930 - val_loss: 1.4842 - val_acc: 0.5329\n",
      "Epoch 12/30\n",
      "7895/7895 [==============================] - 1s 75us/step - loss: 0.8418 - acc: 0.7230 - val_loss: 1.5536 - val_acc: 0.4934\n",
      "Epoch 13/30\n",
      "7895/7895 [==============================] - 1s 75us/step - loss: 0.8565 - acc: 0.7079 - val_loss: 1.5524 - val_acc: 0.5711\n",
      "Epoch 14/30\n",
      "7895/7895 [==============================] - 1s 75us/step - loss: 0.8128 - acc: 0.7272 - val_loss: 1.5723 - val_acc: 0.4863\n",
      "Epoch 15/30\n",
      "7895/7895 [==============================] - 1s 76us/step - loss: 0.7643 - acc: 0.7398 - val_loss: 1.5873 - val_acc: 0.5197\n",
      "Epoch 16/30\n",
      "7895/7895 [==============================] - 1s 76us/step - loss: 0.7376 - acc: 0.7535 - val_loss: 1.6428 - val_acc: 0.4982\n",
      "Epoch 17/30\n",
      "7895/7895 [==============================] - 1s 76us/step - loss: 0.7263 - acc: 0.7552 - val_loss: 1.5436 - val_acc: 0.5006\n",
      "Epoch 18/30\n",
      "7895/7895 [==============================] - 1s 76us/step - loss: 0.7163 - acc: 0.7630 - val_loss: 1.6483 - val_acc: 0.5197\n",
      "Epoch 19/30\n",
      "7895/7895 [==============================] - 1s 77us/step - loss: 0.6598 - acc: 0.7756 - val_loss: 1.6256 - val_acc: 0.5376\n",
      "Epoch 20/30\n",
      "7895/7895 [==============================] - 1s 76us/step - loss: 0.6566 - acc: 0.7778 - val_loss: 1.6310 - val_acc: 0.5400\n",
      "Epoch 21/30\n",
      "7895/7895 [==============================] - 1s 76us/step - loss: 0.6493 - acc: 0.7829 - val_loss: 1.6270 - val_acc: 0.5006\n",
      "Epoch 22/30\n",
      "7895/7895 [==============================] - 1s 76us/step - loss: 0.6225 - acc: 0.7905 - val_loss: 1.6752 - val_acc: 0.5030\n",
      "Epoch 23/30\n",
      "7895/7895 [==============================] - 1s 76us/step - loss: 0.5985 - acc: 0.7965 - val_loss: 1.8576 - val_acc: 0.4827\n",
      "Epoch 24/30\n",
      "7895/7895 [==============================] - 1s 77us/step - loss: 0.6032 - acc: 0.7981 - val_loss: 1.7712 - val_acc: 0.4875\n",
      "Epoch 25/30\n",
      "7895/7895 [==============================] - 1s 77us/step - loss: 0.5739 - acc: 0.8049 - val_loss: 1.7280 - val_acc: 0.4863\n",
      "Epoch 26/30\n",
      "7895/7895 [==============================] - 1s 76us/step - loss: 0.5850 - acc: 0.8061 - val_loss: 1.9209 - val_acc: 0.4982\n",
      "Epoch 27/30\n",
      "7895/7895 [==============================] - 1s 77us/step - loss: 0.5601 - acc: 0.8124 - val_loss: 1.7326 - val_acc: 0.5173\n",
      "Epoch 28/30\n",
      "7895/7895 [==============================] - 1s 76us/step - loss: 0.5530 - acc: 0.8184 - val_loss: 1.8837 - val_acc: 0.5364\n",
      "Epoch 29/30\n",
      "7895/7895 [==============================] - 1s 76us/step - loss: 0.5276 - acc: 0.8241 - val_loss: 2.1571 - val_acc: 0.4970\n",
      "Epoch 30/30\n",
      "7895/7895 [==============================] - 1s 76us/step - loss: 0.5195 - acc: 0.8248 - val_loss: 1.7747 - val_acc: 0.5400\n",
      "837/837 [==============================] - 0s 47us/step\n"
     ]
    },
    {
     "data": {
      "text/plain": [
       "[1.774682123601223, 0.5400238948626045]"
      ]
     },
     "execution_count": 35,
     "metadata": {},
     "output_type": "execute_result"
    }
   ],
   "source": [
    "# Try with ReLU activation for hidden layers\n",
    "model = Sequential()\n",
    "model.add(Flatten(input_shape=[40, 5]))\n",
    "model.add(Dense(300, activation=\"relu\"))   \n",
    "model.add(Dense(100, activation=\"relu\"))\n",
    "model.add(Dense(10, activation=\"softmax\"))\n",
    "model.compile(loss = \"sparse_categorical_crossentropy\", optimizer=\"sgd\", metrics = [\"accuracy\"])\n",
    "ReLU_history = model.fit(x_train,y_train,batch_size=50,epochs=30,validation_data=(x_test,y_test))\n",
    "model.evaluate(x_test, y_test)"
   ]
  },
  {
   "cell_type": "code",
   "execution_count": 51,
   "metadata": {},
   "outputs": [
    {
     "data": {
      "image/png": "[encoded data removed]",
      "text/plain": [
       "<Figure size 432x288 with 1 Axes>"
      ]
     },
     "metadata": {
      "needs_background": "light"
     },
     "output_type": "display_data"
    },
    {
     "data": {
      "image/png": "[encoded data removed]",
      "text/plain": [
       "<Figure size 432x288 with 1 Axes>"
      ]
     },
     "metadata": {
      "needs_background": "light"
     },
     "output_type": "display_data"
    }
   ],
   "source": [
    "# Visualise loss/accuracy during training\n",
    "import matplotlib.pyplot as plt\n",
    "\n",
    "plt.plot(model_history.history['acc'])\n",
    "plt.plot(ReLU_history.history['acc'])\n",
    "plt.plot(ReLU_Early_Stop_history.history['acc'])\n",
    "plt.title('Accuracy')\n",
    "plt.ylabel('Accuracy')\n",
    "plt.xlabel('Epoch')\n",
    "plt.legend(['All features', 'ReLU', 'ReLU Early Stopping'], loc='upper left')\n",
    "plt.grid()\n",
    "plt.show()\n",
    "\n",
    "plt.plot(model_history.history['loss'])\n",
    "plt.plot(ReLU_Early_Stop_history.history['loss'])\n",
    "plt.plot(ReLU_history.history['loss'])\n",
    "plt.title('lLoss')\n",
    "plt.ylabel('Loss')\n",
    "plt.xlabel('Epoch')\n",
    "plt.legend(['All features', 'ReLU', 'ReLU Early Stopping'], loc='upper left')\n",
    "plt.grid()\n",
    "plt.show()\n"
   ]
  },
  {
   "cell_type": "code",
   "execution_count": 92,
   "metadata": {},
   "outputs": [
    {
     "data": {
      "image/png": "[encoded data removed]",
      "text/plain": [
       "<Figure size 864x720 with 2 Axes>"
      ]
     },
     "metadata": {
      "needs_background": "light"
     },
     "output_type": "display_data"
    }
   ],
   "source": [
    "y_test_pred = model.predict_classes(x_test)\n",
    "\n",
    "classes = pd.read_csv(\"classes.csv\")\n",
    "classes = classes['class'].tolist()\n",
    "\n",
    "axis_labels = classes # labels for x-axis\n",
    "\n",
    "# create seabvorn heatmap with required labels\n",
    "\n",
    "\n",
    "import sklearn\n",
    "array = sklearn.metrics.confusion_matrix(y_test_a, y_test_pred)\n",
    "import seaborn as sn\n",
    "import pandas as pd\n",
    "import matplotlib.pyplot as plt\n",
    "plt.figure(figsize = (12, 10))\n",
    "sn.heatmap(array, annot=True, xticklabels=axis_labels, yticklabels=axis_labels)\n",
    "# fixing axis that are cut otherwise\n",
    "b, t = plt.ylim()\n",
    "b += 0.5\n",
    "t -= 0.5\n",
    "plt.ylim(b, t)\n",
    "plt.show()"
   ]
  },
  {
   "cell_type": "code",
   "execution_count": null,
   "metadata": {},
   "outputs": [],
   "source": []
  },
  {
   "cell_type": "code",
   "execution_count": 121,
   "metadata": {},
   "outputs": [
    {
     "name": "stdout",
     "output_type": "stream",
     "text": [
      "Fold #1\n",
      "874/874 [==============================] - 0s 54us/step\n",
      "Fold score (Accuracy): 0.7734553778471609\n",
      "Fold #2\n",
      "874/874 [==============================] - 0s 57us/step\n",
      "Fold score (Accuracy): 0.7105263160622638\n",
      "Fold #3\n",
      "873/873 [==============================] - 0s 57us/step\n",
      "Fold score (Accuracy): 0.690721649689363\n",
      "Fold #4\n",
      "873/873 [==============================] - 0s 56us/step\n",
      "Fold score (Accuracy): 0.6723940437328911\n",
      "Fold #5\n",
      "873/873 [==============================] - 0s 57us/step\n",
      "Fold score (Accuracy): 0.558991981877221\n",
      "Fold #6\n",
      "873/873 [==============================] - 0s 58us/step\n",
      "Fold score (Accuracy): 0.6712485684288872\n",
      "Fold #7\n",
      "873/873 [==============================] - 0s 64us/step\n",
      "Fold score (Accuracy): 0.6781214205942886\n",
      "Fold #8\n",
      "873/873 [==============================] - 0s 59us/step\n",
      "Fold score (Accuracy): 0.6403207333773409\n",
      "Fold #9\n",
      "873/873 [==============================] - 0s 59us/step\n",
      "Fold score (Accuracy): 0.7445589921182237\n",
      "Fold #10\n",
      "873/873 [==============================] - 0s 63us/step\n",
      "Fold score (Accuracy): 0.7594501719578571\n",
      "Final, out of sample score (Accuracy): 0.6899789255685497\n"
     ]
    }
   ],
   "source": [
    "# 10 fold cross-validation\n",
    "# Until we have the 10 folds with the features available, we will use random folds\n",
    "\n",
    "import pandas as pd\n",
    "import os\n",
    "import numpy as np\n",
    "from sklearn import metrics\n",
    "from scipy.stats import zscore\n",
    "from sklearn.model_selection import KFold\n",
    "\n",
    "# Cross-Validate\n",
    "kf = KFold(10, shuffle=True, random_state=42) # Use for KFold classification\n",
    "    \n",
    "accuracy_scores = []\n",
    "\n",
    "x = np.concatenate((x_train, x_test), axis=0)\n",
    "y = np.concatenate((y_train, y_test), axis=0)\n",
    "\n",
    "# x_val = 1 of the folds\n",
    "# x_test = next fold\n",
    "\n",
    "fold = 0\n",
    "for train, test in kf.split(x):\n",
    "    fold+=1\n",
    "    print(f\"Fold #{fold}\")\n",
    "        \n",
    "    x_train = x[train]\n",
    "    y_train = y[train]\n",
    "    x_test = x[test]\n",
    "    y_test = y[test]\n",
    "    \n",
    "    model = Sequential()\n",
    "    model.add(Flatten(input_shape=[40, 5]))\n",
    "    model.add(Dense(300, activation=\"relu\"))   \n",
    "    model.add(Dense(100, activation=\"relu\"))\n",
    "    model.add(Dense(10, activation=\"softmax\"))\n",
    "    model.compile(loss = \"sparse_categorical_crossentropy\", optimizer=\"sgd\", metrics = [\"accuracy\"])\n",
    "    model.fit(x_train,y_train,batch_size=50,epochs=30,validation_data=(x_test,y_test), verbose=0)\n",
    "    model_evaluation = model.evaluate(x_test, y_test, verbose = 0)\n",
    "    score = model_evaluation[1]\n",
    "    accuracy_scores.append(score)\n",
    "    print(\"Fold score (Accuracy): {score}\".format(score = score))\n",
    "\n",
    "# Build the oos prediction list and calculate the error.\n",
    "final_score = np.mean(accuracy_scores)\n",
    "print(f\"Final, out of sample score (Accuracy): {final_score}\")    \n",
    "    \n",
    "# Write the cross-validated prediction\n",
    "# oos_y = pd.DataFrame(oos_y)\n",
    "# oos_pred = pd.DataFrame(oos_pred)\n",
    "# oosDF = pd.concat( [df, oos_y, oos_pred],axis=1 )\n",
    "#oosDF.to_csv(filename_write,index=False)"
   ]
  },
  {
   "cell_type": "code",
   "execution_count": null,
   "metadata": {},
   "outputs": [],
   "source": []
  },
  {
   "cell_type": "code",
   "execution_count": null,
   "metadata": {},
   "outputs": [],
   "source": []
  }
 ],
 "metadata": {
  "kernelspec": {
   "display_name": "Python 3",
   "language": "python",
   "name": "python3"
  },
  "language_info": {
   "codemirror_mode": {
    "name": "ipython",
    "version": 3
   },
   "file_extension": ".py",
   "mimetype": "text/x-python",
   "name": "python",
   "nbconvert_exporter": "python",
   "pygments_lexer": "ipython3",
   "version": "3.7.5"
  }
 },
 "nbformat": 4,
 "nbformat_minor": 2
}
