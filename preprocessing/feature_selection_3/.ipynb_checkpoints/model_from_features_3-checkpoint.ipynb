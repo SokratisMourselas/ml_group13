{
 "cells": [
  {
   "cell_type": "markdown",
   "metadata": {},
   "source": [
    "# First try of 10 fold cross-validation with a simple neural network"
   ]
  },
  {
   "cell_type": "code",
   "execution_count": 2,
   "metadata": {},
   "outputs": [
    {
     "name": "stderr",
     "output_type": "stream",
     "text": [
      "Using TensorFlow backend.\n"
     ]
    }
   ],
   "source": [
    "import pandas as pd\n",
    "import numpy as np\n",
    "import matplotlib.pyplot as plt\n",
    "import os\n",
    "from tqdm import tqdm\n",
    "\n",
    "from keras import Sequential\n",
    "from keras.layers import Dense,Conv2D,MaxPooling2D,Flatten,Dropout\n",
    "from keras.callbacks import EarlyStopping"
   ]
  },
  {
   "cell_type": "code",
   "execution_count": 3,
   "metadata": {},
   "outputs": [],
   "source": [
    "#extracting data from csv files into numpy arrays\n",
    "from numpy import genfromtxt\n",
    "files_data=np.array(['fold_data_1.csv','fold_data_2.csv','fold_data_3.csv','fold_data_4.csv','fold_data_5.csv',\n",
    "                'fold_data_6.csv','fold_data_7.csv','fold_data_8.csv','fold_data_9.csv','fold_data_10.csv'])\n",
    "X_folds= np.array([genfromtxt(file,delimiter=',') for file in files_data])\n",
    "\n",
    "files_label=(['fold_labels_1.csv','fold_labels_2.csv','fold_labels_3.csv','fold_labels_4.csv','fold_labels_5.csv',\n",
    "                'fold_labels_6.csv','fold_labels_7.csv','fold_labels_8.csv','fold_labels_9.csv','fold_labels_10.csv'])\n",
    "Y_folds= np.array([genfromtxt(file,delimiter=',') for file in files_label])"
   ]
  },
  {
   "cell_type": "code",
   "execution_count": 4,
   "metadata": {},
   "outputs": [
    {
     "data": {
      "text/plain": [
       "(873, 256)"
      ]
     },
     "execution_count": 4,
     "metadata": {},
     "output_type": "execute_result"
    }
   ],
   "source": [
    "X_folds[0].shape"
   ]
  },
  {
   "cell_type": "code",
   "execution_count": 39,
   "metadata": {},
   "outputs": [],
   "source": [
    "# Reshaping Y_folds (Note: NOT for CNN)\n",
    "for i in range(0, len(Y_folds)):\n",
    "    Y_folds[i]=np.reshape(Y_folds[i],(Y_folds[i].shape[0], 1))"
   ]
  },
  {
   "cell_type": "code",
   "execution_count": 3,
   "metadata": {},
   "outputs": [],
   "source": [
    "# Changing the labels into categorical (Note: ONLY for CNN)\n",
    "from keras.utils.np_utils import to_categorical\n",
    "Y_folds=([to_categorical(Y_folds, num_classes=10) for Y_folds in Y_folds])"
   ]
  },
  {
   "cell_type": "code",
   "execution_count": 40,
   "metadata": {},
   "outputs": [],
   "source": [
    "# Reshaping folds\n",
    "for i in range(0, len(X_folds)):\n",
    "    X_folds[i]=np.reshape(X_folds[i],(X_folds[i].shape[0], 40, 6))"
   ]
  },
  {
   "cell_type": "code",
   "execution_count": 41,
   "metadata": {},
   "outputs": [
    {
     "name": "stdout",
     "output_type": "stream",
     "text": [
      "Fold #1\n",
      "(7859, 40, 6)\n",
      "(7859, 1)\n",
      "WARNING:tensorflow:From /Users/sokratismourselas/opt/anaconda3/envs/r_env/lib/python3.7/site-packages/tensorflow_core/python/ops/math_grad.py:1424: where (from tensorflow.python.ops.array_ops) is deprecated and will be removed in a future version.\n",
      "Instructions for updating:\n",
      "Use tf.where in 2.0, which has the same broadcast rule as np.where\n",
      "WARNING:tensorflow:From /Users/sokratismourselas/opt/anaconda3/envs/r_env/lib/python3.7/site-packages/keras/backend/tensorflow_backend.py:986: The name tf.assign_add is deprecated. Please use tf.compat.v1.assign_add instead.\n",
      "\n",
      "WARNING:tensorflow:From /Users/sokratismourselas/opt/anaconda3/envs/r_env/lib/python3.7/site-packages/keras/backend/tensorflow_backend.py:973: The name tf.assign is deprecated. Please use tf.compat.v1.assign instead.\n",
      "\n",
      "WARNING:tensorflow:From /Users/sokratismourselas/opt/anaconda3/envs/r_env/lib/python3.7/site-packages/keras/backend/tensorflow_backend.py:2741: The name tf.Session is deprecated. Please use tf.compat.v1.Session instead.\n",
      "\n",
      "WARNING:tensorflow:From /Users/sokratismourselas/opt/anaconda3/envs/r_env/lib/python3.7/site-packages/keras/backend/tensorflow_backend.py:174: The name tf.get_default_session is deprecated. Please use tf.compat.v1.get_default_session instead.\n",
      "\n",
      "WARNING:tensorflow:From /Users/sokratismourselas/opt/anaconda3/envs/r_env/lib/python3.7/site-packages/keras/backend/tensorflow_backend.py:181: The name tf.ConfigProto is deprecated. Please use tf.compat.v1.ConfigProto instead.\n",
      "\n",
      "WARNING:tensorflow:From /Users/sokratismourselas/opt/anaconda3/envs/r_env/lib/python3.7/site-packages/keras/backend/tensorflow_backend.py:190: The name tf.global_variables is deprecated. Please use tf.compat.v1.global_variables instead.\n",
      "\n",
      "WARNING:tensorflow:From /Users/sokratismourselas/opt/anaconda3/envs/r_env/lib/python3.7/site-packages/keras/backend/tensorflow_backend.py:199: The name tf.is_variable_initialized is deprecated. Please use tf.compat.v1.is_variable_initialized instead.\n",
      "\n",
      "WARNING:tensorflow:From /Users/sokratismourselas/opt/anaconda3/envs/r_env/lib/python3.7/site-packages/keras/backend/tensorflow_backend.py:206: The name tf.variables_initializer is deprecated. Please use tf.compat.v1.variables_initializer instead.\n",
      "\n",
      "Fold score (Accuracy): 0.11454753743277656\n",
      "Fold #2\n",
      "(7844, 40, 6)\n",
      "(7844, 1)\n",
      "Fold score (Accuracy): 0.11261261261261261\n",
      "Fold #3\n",
      "(7807, 40, 6)\n",
      "(7807, 1)\n",
      "Fold score (Accuracy): 0.03891891891891892\n",
      "Fold #4\n",
      "(7742, 40, 6)\n",
      "(7742, 1)\n",
      "Fold score (Accuracy): 0.10101010119072115\n",
      "Fold #5\n",
      "(7796, 40, 6)\n",
      "(7796, 1)\n",
      "Fold score (Accuracy): 0.10683760683760683\n",
      "Fold #6\n",
      "(7909, 40, 6)\n",
      "(7909, 1)\n",
      "Fold score (Accuracy): 0.12150668289019009\n",
      "Fold #7\n",
      "(7894, 40, 6)\n",
      "(7894, 1)\n",
      "Fold score (Accuracy): 0.11933174224343675\n",
      "Fold #8\n",
      "(7926, 40, 6)\n",
      "(7926, 1)\n",
      "Fold score (Accuracy): 0.10794044665012408\n",
      "Fold #9\n",
      "(7916, 40, 6)\n",
      "(7916, 1)\n",
      "Fold score (Accuracy): 0.12254901960784313\n",
      "Fold #10\n",
      "(7895, 40, 6)\n",
      "(7895, 1)\n",
      "Fold score (Accuracy): 0.1111111111111111\n",
      "Final, out of sample score (Accuracy): 0.10563657794953411\n"
     ]
    }
   ],
   "source": [
    "# 10 fold cross-validation\n",
    "import pandas as pd\n",
    "import os\n",
    "import numpy as np\n",
    "from sklearn import metrics\n",
    "from scipy.stats import zscore\n",
    "from sklearn.model_selection import KFold\n",
    "    \n",
    "accuracy_scores = []\n",
    "\n",
    "fold = 0\n",
    "for i in range (0, len(Y_folds)) :\n",
    "    fold+=1\n",
    "    print(f\"Fold #{fold}\")\n",
    "    \n",
    "    x_train = np.vstack([X_folds[j] for j in range(0, len(Y_folds)) if i!=j])\n",
    "    y_train = np.vstack([Y_folds[j] for j in range(0, len(Y_folds)) if i!=j])\n",
    "    x_test = np.vstack([X_folds[j] for j in range(0, len(Y_folds)) if i==j])\n",
    "    y_test = np.vstack([Y_folds[j] for j in range(0, len(Y_folds)) if i==j])\n",
    "    \n",
    "    model = Sequential()\n",
    "    model.add(Flatten(input_shape=[40, 6]))\n",
    "    model.add(Dense(300, activation=\"relu\"))   \n",
    "    model.add(Dense(100, activation=\"relu\"))\n",
    "    model.add(Dense(10, activation=\"softmax\"))\n",
    "    model.compile(loss = \"sparse_categorical_crossentropy\", optimizer=\"sgd\", metrics = [\"accuracy\"])\n",
    "    model.fit(x_train,y_train,batch_size=50,epochs=30,validation_data=(x_test,y_test), verbose=0)\n",
    "    model_evaluation = model.evaluate(x_test, y_test, verbose = 0)\n",
    "    score = model_evaluation[1]\n",
    "    accuracy_scores.append(score)\n",
    "    print(\"Fold score (Accuracy): {score}\".format(score = score))\n",
    "\n",
    "# Build the oos prediction list and calculate the error.\n",
    "final_score = np.mean(accuracy_scores)\n",
    "print(f\"Final, out of sample score (Accuracy): {final_score}\")  "
   ]
  },
  {
   "cell_type": "markdown",
   "metadata": {},
   "source": [
    "# 10 fold cross-validation for a Convolutional Neural Network"
   ]
  },
  {
   "cell_type": "code",
   "execution_count": 4,
   "metadata": {},
   "outputs": [],
   "source": [
    "# Reshaping folds for CNN\n",
    "for i in range(0, len(X_folds)):\n",
    "    X_folds[i]=np.reshape(X_folds[i],(X_folds[i].shape[0], 40, 6, 1))"
   ]
  },
  {
   "cell_type": "code",
   "execution_count": 6,
   "metadata": {
    "scrolled": false
   },
   "outputs": [
    {
     "name": "stdout",
     "output_type": "stream",
     "text": [
      "Fold #1\n",
      "WARNING:tensorflow:From /Users/sokratismourselas/opt/anaconda3/envs/r_env/lib/python3.7/site-packages/keras/backend/tensorflow_backend.py:74: The name tf.get_default_graph is deprecated. Please use tf.compat.v1.get_default_graph instead.\n",
      "\n",
      "WARNING:tensorflow:From /Users/sokratismourselas/opt/anaconda3/envs/r_env/lib/python3.7/site-packages/keras/backend/tensorflow_backend.py:517: The name tf.placeholder is deprecated. Please use tf.compat.v1.placeholder instead.\n",
      "\n",
      "WARNING:tensorflow:From /Users/sokratismourselas/opt/anaconda3/envs/r_env/lib/python3.7/site-packages/keras/backend/tensorflow_backend.py:4138: The name tf.random_uniform is deprecated. Please use tf.random.uniform instead.\n",
      "\n",
      "WARNING:tensorflow:From /Users/sokratismourselas/opt/anaconda3/envs/r_env/lib/python3.7/site-packages/keras/backend/tensorflow_backend.py:3976: The name tf.nn.max_pool is deprecated. Please use tf.nn.max_pool2d instead.\n",
      "\n",
      "WARNING:tensorflow:From /Users/sokratismourselas/opt/anaconda3/envs/r_env/lib/python3.7/site-packages/keras/backend/tensorflow_backend.py:133: The name tf.placeholder_with_default is deprecated. Please use tf.compat.v1.placeholder_with_default instead.\n",
      "\n",
      "WARNING:tensorflow:From /Users/sokratismourselas/opt/anaconda3/envs/r_env/lib/python3.7/site-packages/keras/backend/tensorflow_backend.py:3445: calling dropout (from tensorflow.python.ops.nn_ops) with keep_prob is deprecated and will be removed in a future version.\n",
      "Instructions for updating:\n",
      "Please use `rate` instead of `keep_prob`. Rate should be set to `rate = 1 - keep_prob`.\n",
      "WARNING:tensorflow:From /Users/sokratismourselas/opt/anaconda3/envs/r_env/lib/python3.7/site-packages/keras/optimizers.py:790: The name tf.train.Optimizer is deprecated. Please use tf.compat.v1.train.Optimizer instead.\n",
      "\n",
      "WARNING:tensorflow:From /Users/sokratismourselas/opt/anaconda3/envs/r_env/lib/python3.7/site-packages/keras/backend/tensorflow_backend.py:3295: The name tf.log is deprecated. Please use tf.math.log instead.\n",
      "\n",
      "WARNING:tensorflow:From /Users/sokratismourselas/opt/anaconda3/envs/r_env/lib/python3.7/site-packages/tensorflow_core/python/ops/math_grad.py:1424: where (from tensorflow.python.ops.array_ops) is deprecated and will be removed in a future version.\n",
      "Instructions for updating:\n",
      "Use tf.where in 2.0, which has the same broadcast rule as np.where\n",
      "WARNING:tensorflow:From /Users/sokratismourselas/opt/anaconda3/envs/r_env/lib/python3.7/site-packages/keras/backend/tensorflow_backend.py:986: The name tf.assign_add is deprecated. Please use tf.compat.v1.assign_add instead.\n",
      "\n",
      "WARNING:tensorflow:From /Users/sokratismourselas/opt/anaconda3/envs/r_env/lib/python3.7/site-packages/keras/backend/tensorflow_backend.py:973: The name tf.assign is deprecated. Please use tf.compat.v1.assign instead.\n",
      "\n",
      "WARNING:tensorflow:From /Users/sokratismourselas/opt/anaconda3/envs/r_env/lib/python3.7/site-packages/keras/backend/tensorflow_backend.py:2741: The name tf.Session is deprecated. Please use tf.compat.v1.Session instead.\n",
      "\n",
      "Train on 7859 samples, validate on 873 samples\n",
      "Epoch 1/30\n",
      "WARNING:tensorflow:From /Users/sokratismourselas/opt/anaconda3/envs/r_env/lib/python3.7/site-packages/keras/backend/tensorflow_backend.py:174: The name tf.get_default_session is deprecated. Please use tf.compat.v1.get_default_session instead.\n",
      "\n",
      "WARNING:tensorflow:From /Users/sokratismourselas/opt/anaconda3/envs/r_env/lib/python3.7/site-packages/keras/backend/tensorflow_backend.py:181: The name tf.ConfigProto is deprecated. Please use tf.compat.v1.ConfigProto instead.\n",
      "\n",
      "WARNING:tensorflow:From /Users/sokratismourselas/opt/anaconda3/envs/r_env/lib/python3.7/site-packages/keras/backend/tensorflow_backend.py:190: The name tf.global_variables is deprecated. Please use tf.compat.v1.global_variables instead.\n",
      "\n",
      "WARNING:tensorflow:From /Users/sokratismourselas/opt/anaconda3/envs/r_env/lib/python3.7/site-packages/keras/backend/tensorflow_backend.py:199: The name tf.is_variable_initialized is deprecated. Please use tf.compat.v1.is_variable_initialized instead.\n",
      "\n",
      "WARNING:tensorflow:From /Users/sokratismourselas/opt/anaconda3/envs/r_env/lib/python3.7/site-packages/keras/backend/tensorflow_backend.py:206: The name tf.variables_initializer is deprecated. Please use tf.compat.v1.variables_initializer instead.\n",
      "\n",
      "7859/7859 [==============================] - 12s 2ms/step - loss: 5.6714 - acc: 0.2002 - val_loss: 3.0959 - val_acc: 0.2199\n",
      "Epoch 2/30\n",
      "7859/7859 [==============================] - 11s 1ms/step - loss: 3.2278 - acc: 0.2266 - val_loss: 2.5409 - val_acc: 0.3093\n",
      "Epoch 3/30\n",
      "7859/7859 [==============================] - 11s 1ms/step - loss: 2.8673 - acc: 0.2551 - val_loss: 2.6262 - val_acc: 0.3368\n",
      "Epoch 4/30\n",
      "7859/7859 [==============================] - 12s 1ms/step - loss: 2.7509 - acc: 0.2708 - val_loss: 2.8423 - val_acc: 0.2898\n",
      "Epoch 5/30\n",
      "7859/7859 [==============================] - 12s 2ms/step - loss: 2.8151 - acc: 0.3025 - val_loss: 2.4348 - val_acc: 0.3379\n",
      "Epoch 6/30\n",
      "7859/7859 [==============================] - 12s 2ms/step - loss: 2.6308 - acc: 0.3207 - val_loss: 2.2963 - val_acc: 0.3276\n",
      "Epoch 7/30\n",
      "7859/7859 [==============================] - 12s 1ms/step - loss: 2.3340 - acc: 0.3168 - val_loss: 2.2726 - val_acc: 0.3253\n",
      "Epoch 8/30\n",
      "7859/7859 [==============================] - 12s 1ms/step - loss: 2.2646 - acc: 0.3354 - val_loss: 3.0197 - val_acc: 0.2955\n",
      "Epoch 9/30\n",
      "7859/7859 [==============================] - 11s 1ms/step - loss: 2.1883 - acc: 0.3287 - val_loss: 2.0263 - val_acc: 0.3104\n",
      "Epoch 10/30\n",
      "7859/7859 [==============================] - 11s 1ms/step - loss: 2.0067 - acc: 0.3469 - val_loss: 2.0366 - val_acc: 0.3963\n",
      "Epoch 11/30\n",
      "7859/7859 [==============================] - 11s 1ms/step - loss: 1.8625 - acc: 0.3675 - val_loss: 1.9879 - val_acc: 0.3368\n",
      "Epoch 12/30\n",
      "7859/7859 [==============================] - 12s 2ms/step - loss: 1.9292 - acc: 0.3684 - val_loss: 1.9209 - val_acc: 0.3368\n",
      "Epoch 13/30\n",
      "7859/7859 [==============================] - 13s 2ms/step - loss: 1.8072 - acc: 0.3721 - val_loss: 2.0640 - val_acc: 0.3654\n",
      "Epoch 14/30\n",
      "7859/7859 [==============================] - 12s 2ms/step - loss: 1.7184 - acc: 0.3925 - val_loss: 1.8719 - val_acc: 0.3803\n",
      "Epoch 15/30\n",
      "7859/7859 [==============================] - 12s 2ms/step - loss: 1.6514 - acc: 0.3956 - val_loss: 1.7618 - val_acc: 0.3906\n",
      "Epoch 16/30\n",
      "7859/7859 [==============================] - 12s 2ms/step - loss: 1.6007 - acc: 0.4260 - val_loss: 1.8664 - val_acc: 0.4066\n",
      "Epoch 17/30\n",
      "7859/7859 [==============================] - 12s 2ms/step - loss: 1.6529 - acc: 0.4362 - val_loss: 1.9811 - val_acc: 0.3734\n",
      "Epoch 18/30\n",
      "7859/7859 [==============================] - 12s 2ms/step - loss: 1.6175 - acc: 0.4433 - val_loss: 1.7499 - val_acc: 0.4089\n",
      "Epoch 19/30\n",
      "7859/7859 [==============================] - 12s 2ms/step - loss: 1.5693 - acc: 0.4443 - val_loss: 1.7315 - val_acc: 0.4433\n",
      "Epoch 20/30\n",
      "7859/7859 [==============================] - 12s 2ms/step - loss: 1.5405 - acc: 0.4564 - val_loss: 1.7689 - val_acc: 0.4570\n",
      "Epoch 21/30\n",
      "7859/7859 [==============================] - 12s 2ms/step - loss: 1.4596 - acc: 0.4824 - val_loss: 1.6490 - val_acc: 0.4376\n",
      "Epoch 22/30\n",
      "7859/7859 [==============================] - 12s 2ms/step - loss: 1.4620 - acc: 0.4901 - val_loss: 1.7020 - val_acc: 0.4296\n",
      "Epoch 23/30\n",
      "7859/7859 [==============================] - 12s 2ms/step - loss: 1.4659 - acc: 0.4901 - val_loss: 1.7061 - val_acc: 0.4525\n",
      "Epoch 24/30\n",
      "6350/7859 [=======================>......] - ETA: 2s - loss: 1.4099 - acc: 0.5046"
     ]
    },
    {
     "ename": "KeyboardInterrupt",
     "evalue": "",
     "output_type": "error",
     "traceback": [
      "\u001b[0;31m---------------------------------------------------------------------------\u001b[0m",
      "\u001b[0;31mKeyboardInterrupt\u001b[0m                         Traceback (most recent call last)",
      "\u001b[0;32m<ipython-input-6-ebcb57709129>\u001b[0m in \u001b[0;36m<module>\u001b[0;34m\u001b[0m\n\u001b[1;32m     43\u001b[0m \u001b[0;34m\u001b[0m\u001b[0m\n\u001b[1;32m     44\u001b[0m     \u001b[0;31m#training the model\u001b[0m\u001b[0;34m\u001b[0m\u001b[0;34m\u001b[0m\u001b[0;34m\u001b[0m\u001b[0m\n\u001b[0;32m---> 45\u001b[0;31m     \u001b[0mmodel\u001b[0m\u001b[0;34m.\u001b[0m\u001b[0mfit\u001b[0m\u001b[0;34m(\u001b[0m\u001b[0mx_train\u001b[0m\u001b[0;34m,\u001b[0m\u001b[0my_train\u001b[0m\u001b[0;34m,\u001b[0m\u001b[0mbatch_size\u001b[0m\u001b[0;34m=\u001b[0m\u001b[0;36m50\u001b[0m\u001b[0;34m,\u001b[0m\u001b[0mepochs\u001b[0m\u001b[0;34m=\u001b[0m\u001b[0;36m30\u001b[0m\u001b[0;34m,\u001b[0m\u001b[0mvalidation_data\u001b[0m\u001b[0;34m=\u001b[0m\u001b[0;34m(\u001b[0m\u001b[0mx_test\u001b[0m\u001b[0;34m,\u001b[0m\u001b[0my_test\u001b[0m\u001b[0;34m)\u001b[0m\u001b[0;34m)\u001b[0m\u001b[0;34m\u001b[0m\u001b[0;34m\u001b[0m\u001b[0m\n\u001b[0m\u001b[1;32m     46\u001b[0m \u001b[0;34m\u001b[0m\u001b[0m\n\u001b[1;32m     47\u001b[0m     \u001b[0mmodel_evaluation\u001b[0m \u001b[0;34m=\u001b[0m \u001b[0mmodel\u001b[0m\u001b[0;34m.\u001b[0m\u001b[0mevaluate\u001b[0m\u001b[0;34m(\u001b[0m\u001b[0mx_test\u001b[0m\u001b[0;34m,\u001b[0m \u001b[0my_test\u001b[0m\u001b[0;34m,\u001b[0m \u001b[0mverbose\u001b[0m \u001b[0;34m=\u001b[0m \u001b[0;36m0\u001b[0m\u001b[0;34m)\u001b[0m\u001b[0;34m\u001b[0m\u001b[0;34m\u001b[0m\u001b[0m\n",
      "\u001b[0;32m~/opt/anaconda3/envs/r_env/lib/python3.7/site-packages/keras/engine/training.py\u001b[0m in \u001b[0;36mfit\u001b[0;34m(self, x, y, batch_size, epochs, verbose, callbacks, validation_split, validation_data, shuffle, class_weight, sample_weight, initial_epoch, steps_per_epoch, validation_steps, **kwargs)\u001b[0m\n\u001b[1;32m   1037\u001b[0m                                         \u001b[0minitial_epoch\u001b[0m\u001b[0;34m=\u001b[0m\u001b[0minitial_epoch\u001b[0m\u001b[0;34m,\u001b[0m\u001b[0;34m\u001b[0m\u001b[0;34m\u001b[0m\u001b[0m\n\u001b[1;32m   1038\u001b[0m                                         \u001b[0msteps_per_epoch\u001b[0m\u001b[0;34m=\u001b[0m\u001b[0msteps_per_epoch\u001b[0m\u001b[0;34m,\u001b[0m\u001b[0;34m\u001b[0m\u001b[0;34m\u001b[0m\u001b[0m\n\u001b[0;32m-> 1039\u001b[0;31m                                         validation_steps=validation_steps)\n\u001b[0m\u001b[1;32m   1040\u001b[0m \u001b[0;34m\u001b[0m\u001b[0m\n\u001b[1;32m   1041\u001b[0m     def evaluate(self, x=None, y=None,\n",
      "\u001b[0;32m~/opt/anaconda3/envs/r_env/lib/python3.7/site-packages/keras/engine/training_arrays.py\u001b[0m in \u001b[0;36mfit_loop\u001b[0;34m(model, f, ins, out_labels, batch_size, epochs, verbose, callbacks, val_f, val_ins, shuffle, callback_metrics, initial_epoch, steps_per_epoch, validation_steps)\u001b[0m\n\u001b[1;32m    197\u001b[0m                     \u001b[0mins_batch\u001b[0m\u001b[0;34m[\u001b[0m\u001b[0mi\u001b[0m\u001b[0;34m]\u001b[0m \u001b[0;34m=\u001b[0m \u001b[0mins_batch\u001b[0m\u001b[0;34m[\u001b[0m\u001b[0mi\u001b[0m\u001b[0;34m]\u001b[0m\u001b[0;34m.\u001b[0m\u001b[0mtoarray\u001b[0m\u001b[0;34m(\u001b[0m\u001b[0;34m)\u001b[0m\u001b[0;34m\u001b[0m\u001b[0;34m\u001b[0m\u001b[0m\n\u001b[1;32m    198\u001b[0m \u001b[0;34m\u001b[0m\u001b[0m\n\u001b[0;32m--> 199\u001b[0;31m                 \u001b[0mouts\u001b[0m \u001b[0;34m=\u001b[0m \u001b[0mf\u001b[0m\u001b[0;34m(\u001b[0m\u001b[0mins_batch\u001b[0m\u001b[0;34m)\u001b[0m\u001b[0;34m\u001b[0m\u001b[0;34m\u001b[0m\u001b[0m\n\u001b[0m\u001b[1;32m    200\u001b[0m                 \u001b[0mouts\u001b[0m \u001b[0;34m=\u001b[0m \u001b[0mto_list\u001b[0m\u001b[0;34m(\u001b[0m\u001b[0mouts\u001b[0m\u001b[0;34m)\u001b[0m\u001b[0;34m\u001b[0m\u001b[0;34m\u001b[0m\u001b[0m\n\u001b[1;32m    201\u001b[0m                 \u001b[0;32mfor\u001b[0m \u001b[0ml\u001b[0m\u001b[0;34m,\u001b[0m \u001b[0mo\u001b[0m \u001b[0;32min\u001b[0m \u001b[0mzip\u001b[0m\u001b[0;34m(\u001b[0m\u001b[0mout_labels\u001b[0m\u001b[0;34m,\u001b[0m \u001b[0mouts\u001b[0m\u001b[0;34m)\u001b[0m\u001b[0;34m:\u001b[0m\u001b[0;34m\u001b[0m\u001b[0;34m\u001b[0m\u001b[0m\n",
      "\u001b[0;32m~/opt/anaconda3/envs/r_env/lib/python3.7/site-packages/keras/backend/tensorflow_backend.py\u001b[0m in \u001b[0;36m__call__\u001b[0;34m(self, inputs)\u001b[0m\n\u001b[1;32m   2713\u001b[0m                 \u001b[0;32mreturn\u001b[0m \u001b[0mself\u001b[0m\u001b[0;34m.\u001b[0m\u001b[0m_legacy_call\u001b[0m\u001b[0;34m(\u001b[0m\u001b[0minputs\u001b[0m\u001b[0;34m)\u001b[0m\u001b[0;34m\u001b[0m\u001b[0;34m\u001b[0m\u001b[0m\n\u001b[1;32m   2714\u001b[0m \u001b[0;34m\u001b[0m\u001b[0m\n\u001b[0;32m-> 2715\u001b[0;31m             \u001b[0;32mreturn\u001b[0m \u001b[0mself\u001b[0m\u001b[0;34m.\u001b[0m\u001b[0m_call\u001b[0m\u001b[0;34m(\u001b[0m\u001b[0minputs\u001b[0m\u001b[0;34m)\u001b[0m\u001b[0;34m\u001b[0m\u001b[0;34m\u001b[0m\u001b[0m\n\u001b[0m\u001b[1;32m   2716\u001b[0m         \u001b[0;32melse\u001b[0m\u001b[0;34m:\u001b[0m\u001b[0;34m\u001b[0m\u001b[0;34m\u001b[0m\u001b[0m\n\u001b[1;32m   2717\u001b[0m             \u001b[0;32mif\u001b[0m \u001b[0mpy_any\u001b[0m\u001b[0;34m(\u001b[0m\u001b[0mis_tensor\u001b[0m\u001b[0;34m(\u001b[0m\u001b[0mx\u001b[0m\u001b[0;34m)\u001b[0m \u001b[0;32mfor\u001b[0m \u001b[0mx\u001b[0m \u001b[0;32min\u001b[0m \u001b[0minputs\u001b[0m\u001b[0;34m)\u001b[0m\u001b[0;34m:\u001b[0m\u001b[0;34m\u001b[0m\u001b[0;34m\u001b[0m\u001b[0m\n",
      "\u001b[0;32m~/opt/anaconda3/envs/r_env/lib/python3.7/site-packages/keras/backend/tensorflow_backend.py\u001b[0m in \u001b[0;36m_call\u001b[0;34m(self, inputs)\u001b[0m\n\u001b[1;32m   2673\u001b[0m             \u001b[0mfetched\u001b[0m \u001b[0;34m=\u001b[0m \u001b[0mself\u001b[0m\u001b[0;34m.\u001b[0m\u001b[0m_callable_fn\u001b[0m\u001b[0;34m(\u001b[0m\u001b[0;34m*\u001b[0m\u001b[0marray_vals\u001b[0m\u001b[0;34m,\u001b[0m \u001b[0mrun_metadata\u001b[0m\u001b[0;34m=\u001b[0m\u001b[0mself\u001b[0m\u001b[0;34m.\u001b[0m\u001b[0mrun_metadata\u001b[0m\u001b[0;34m)\u001b[0m\u001b[0;34m\u001b[0m\u001b[0;34m\u001b[0m\u001b[0m\n\u001b[1;32m   2674\u001b[0m         \u001b[0;32melse\u001b[0m\u001b[0;34m:\u001b[0m\u001b[0;34m\u001b[0m\u001b[0;34m\u001b[0m\u001b[0m\n\u001b[0;32m-> 2675\u001b[0;31m             \u001b[0mfetched\u001b[0m \u001b[0;34m=\u001b[0m \u001b[0mself\u001b[0m\u001b[0;34m.\u001b[0m\u001b[0m_callable_fn\u001b[0m\u001b[0;34m(\u001b[0m\u001b[0;34m*\u001b[0m\u001b[0marray_vals\u001b[0m\u001b[0;34m)\u001b[0m\u001b[0;34m\u001b[0m\u001b[0;34m\u001b[0m\u001b[0m\n\u001b[0m\u001b[1;32m   2676\u001b[0m         \u001b[0;32mreturn\u001b[0m \u001b[0mfetched\u001b[0m\u001b[0;34m[\u001b[0m\u001b[0;34m:\u001b[0m\u001b[0mlen\u001b[0m\u001b[0;34m(\u001b[0m\u001b[0mself\u001b[0m\u001b[0;34m.\u001b[0m\u001b[0moutputs\u001b[0m\u001b[0;34m)\u001b[0m\u001b[0;34m]\u001b[0m\u001b[0;34m\u001b[0m\u001b[0;34m\u001b[0m\u001b[0m\n\u001b[1;32m   2677\u001b[0m \u001b[0;34m\u001b[0m\u001b[0m\n",
      "\u001b[0;32m~/opt/anaconda3/envs/r_env/lib/python3.7/site-packages/tensorflow_core/python/client/session.py\u001b[0m in \u001b[0;36m__call__\u001b[0;34m(self, *args, **kwargs)\u001b[0m\n\u001b[1;32m   1470\u001b[0m         ret = tf_session.TF_SessionRunCallable(self._session._session,\n\u001b[1;32m   1471\u001b[0m                                                \u001b[0mself\u001b[0m\u001b[0;34m.\u001b[0m\u001b[0m_handle\u001b[0m\u001b[0;34m,\u001b[0m \u001b[0margs\u001b[0m\u001b[0;34m,\u001b[0m\u001b[0;34m\u001b[0m\u001b[0;34m\u001b[0m\u001b[0m\n\u001b[0;32m-> 1472\u001b[0;31m                                                run_metadata_ptr)\n\u001b[0m\u001b[1;32m   1473\u001b[0m         \u001b[0;32mif\u001b[0m \u001b[0mrun_metadata\u001b[0m\u001b[0;34m:\u001b[0m\u001b[0;34m\u001b[0m\u001b[0;34m\u001b[0m\u001b[0m\n\u001b[1;32m   1474\u001b[0m           \u001b[0mproto_data\u001b[0m \u001b[0;34m=\u001b[0m \u001b[0mtf_session\u001b[0m\u001b[0;34m.\u001b[0m\u001b[0mTF_GetBuffer\u001b[0m\u001b[0;34m(\u001b[0m\u001b[0mrun_metadata_ptr\u001b[0m\u001b[0;34m)\u001b[0m\u001b[0;34m\u001b[0m\u001b[0;34m\u001b[0m\u001b[0m\n",
      "\u001b[0;31mKeyboardInterrupt\u001b[0m: "
     ]
    }
   ],
   "source": [
    "# 10 fold cross-validation\n",
    "import pandas as pd\n",
    "import os\n",
    "import numpy as np\n",
    "from sklearn import metrics\n",
    "from scipy.stats import zscore\n",
    "from sklearn.model_selection import KFold\n",
    "    \n",
    "accuracy_scores = []\n",
    "\n",
    "fold = 0\n",
    "for i in range (0, len(Y_folds)) :\n",
    "    fold+=1\n",
    "    print(f\"Fold #{fold}\")\n",
    "    \n",
    "    x_train = np.vstack([X_folds[j] for j in range(0, len(Y_folds)) if i!=j])\n",
    "    y_train = np.vstack([Y_folds[j] for j in range(0, len(Y_folds)) if i!=j])\n",
    "    x_test = np.vstack([X_folds[j] for j in range(0, len(Y_folds)) if i==j])\n",
    "    y_test = np.vstack([Y_folds[j] for j in range(0, len(Y_folds)) if i==j])\n",
    "    \n",
    "    #forming model\n",
    "    model=Sequential()\n",
    "\n",
    "    model.add(Conv2D(64,kernel_size=5,strides=1,padding=\"Same\",activation=\"relu\",input_shape=(40,6,1)))\n",
    "    model.add(MaxPooling2D(padding=\"same\"))\n",
    "\n",
    "    model.add(Conv2D(128,kernel_size=5,strides=1,padding=\"same\",activation=\"relu\"))\n",
    "    model.add(MaxPooling2D(padding=\"same\"))\n",
    "    model.add(Dropout(0.3))\n",
    "\n",
    "    model.add(Flatten())\n",
    "\n",
    "    model.add(Dense(256,activation=\"relu\"))\n",
    "    model.add(Dropout(0.3))\n",
    "\n",
    "    model.add(Dense(512,activation=\"relu\"))\n",
    "    model.add(Dropout(0.3))\n",
    "\n",
    "    model.add(Dense(10,activation=\"softmax\"))\n",
    "\n",
    "    #compiling\n",
    "    model.compile(optimizer=\"adam\",loss=\"categorical_crossentropy\",metrics=[\"accuracy\"])\n",
    "\n",
    "    #training the model\n",
    "    model.fit(x_train,y_train,batch_size=50,epochs=30, verbose = 0,validation_data=(x_test,y_test))\n",
    "    \n",
    "    model_evaluation = model.evaluate(x_test, y_test, verbose = 0)\n",
    "    score = model_evaluation[1]\n",
    "    accuracy_scores.append(score)\n",
    "    print(\"Fold score (Accuracy): {score}\".format(score = score))\n",
    "\n",
    "# Build the oos prediction list and calculate the error.\n",
    "final_score = np.mean(accuracy_scores)\n",
    "print(f\"Final, out of sample score (Accuracy): {final_score}\") "
   ]
  },
  {
   "cell_type": "code",
   "execution_count": null,
   "metadata": {},
   "outputs": [],
   "source": []
  }
 ],
 "metadata": {
  "kernelspec": {
   "display_name": "Python 3",
   "language": "python",
   "name": "python3"
  },
  "language_info": {
   "codemirror_mode": {
    "name": "ipython",
    "version": 3
   },
   "file_extension": ".py",
   "mimetype": "text/x-python",
   "name": "python",
   "nbconvert_exporter": "python",
   "pygments_lexer": "ipython3",
   "version": "3.7.5"
  }
 },
 "nbformat": 4,
 "nbformat_minor": 2
}
