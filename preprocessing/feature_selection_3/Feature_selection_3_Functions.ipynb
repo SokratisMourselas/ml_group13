{
 "cells": [
  {
   "cell_type": "markdown",
   "metadata": {},
   "source": [
    "# Feature set 3\n"
   ]
  },
  {
   "cell_type": "code",
   "execution_count": 31,
   "metadata": {},
   "outputs": [],
   "source": [
    "import pandas as pd\n",
    "import numpy as np\n",
    "import matplotlib.pyplot as plt\n",
    "import os\n",
    "from tqdm import tqdm\n",
    "import librosa\n",
    "from keras.utils.np_utils import to_categorical\n",
    "from sklearn.model_selection import train_test_split\n",
    "import time\n",
    "from keras.callbacks import EarlyStopping\n",
    "\n",
    "from keras import Sequential\n",
    "from keras.layers import Dense,Conv2D,MaxPooling2D,Flatten,Dropout,merge,Activation\n",
    "\n",
    "from sklearn.model_selection import train_test_split\n",
    "from sklearn.linear_model import LogisticRegression"
   ]
  },
  {
   "cell_type": "markdown",
   "metadata": {},
   "source": [
    "#### Extracting data from csv files into numpy arrays"
   ]
  },
  {
   "cell_type": "code",
   "execution_count": 32,
   "metadata": {},
   "outputs": [],
   "source": [
    "#extracting data from csv files into numpy arrays\n",
    "from numpy import genfromtxt\n",
    "files_data=np.array(['fold_data_1.csv','fold_data_2.csv','fold_data_3.csv','fold_data_4.csv','fold_data_5.csv',\n",
    "                'fold_data_6.csv','fold_data_7.csv','fold_data_8.csv','fold_data_9.csv','fold_data_10.csv'])\n",
    "X_folds= np.array([genfromtxt(file,delimiter=',') for file in files_data])\n",
    "\n",
    "files_label=(['fold_labels_1.csv','fold_labels_2.csv','fold_labels_3.csv','fold_labels_4.csv','fold_labels_5.csv',\n",
    "                'fold_labels_6.csv','fold_labels_7.csv','fold_labels_8.csv','fold_labels_9.csv','fold_labels_10.csv'])\n",
    "Y_folds= np.array([genfromtxt(file,delimiter=',') for file in files_label])"
   ]
  },
  {
   "cell_type": "code",
   "execution_count": 33,
   "metadata": {},
   "outputs": [],
   "source": [
    "def data_processor_cnn(X_folds,Y_folds):\n",
    "    Y_folds=([to_categorical(Y_folds, num_classes=10) for Y_folds in Y_folds])\n",
    "    for i in range(0, len(X_folds)):\n",
    "        X_folds[i]=np.reshape(X_folds[i],(X_folds[i].shape[0], 32, 8, 1))\n",
    "    return X_folds,Y_folds"
   ]
  },
  {
   "cell_type": "code",
   "execution_count": 34,
   "metadata": {},
   "outputs": [],
   "source": [
    "def data_processor_basic_nn(X_fold,Y_folds):\n",
    "    for i in range(0, len(Y_folds)):\n",
    "        Y_folds[i]=np.reshape(Y_folds[i],(Y_folds[i].shape[0], 1))\n",
    "    for i in range(0, len(X_folds)):\n",
    "        X_folds[i]=np.reshape(X_folds[i],(X_folds[i].shape[0], 32, 8))\n",
    "    return X_folds,Y_folds"
   ]
  },
  {
   "cell_type": "code",
   "execution_count": 35,
   "metadata": {},
   "outputs": [],
   "source": [
    "def data_processor_log_reg(X_fold,Y_folds):\n",
    "    for i in range(0, len(Y_folds)):\n",
    "        Y_folds[i]=np.reshape(Y_folds[i],(Y_folds[i].shape[0], 1))\n",
    "    for i in range(0, len(X_folds)):\n",
    "        X_folds[i]=np.reshape(X_folds[i],(X_folds[i].shape[0], 256))\n",
    "    return X_folds,Y_folds"
   ]
  },
  {
   "cell_type": "code",
   "execution_count": 36,
   "metadata": {},
   "outputs": [],
   "source": [
    "Data_cnn=data_processor_cnn(X_folds,Y_folds)\n",
    "X_folds_10=Data_cnn[0]\n",
    "Y_folds_10=Data_cnn[1]"
   ]
  },
  {
   "cell_type": "code",
   "execution_count": 37,
   "metadata": {},
   "outputs": [],
   "source": [
    "Data_Linear=data_processor_basic_nn(X_folds,Y_folds)\n",
    "X_folds_1=Data_Linear[0]\n",
    "Y_folds_1=Data_Linear[1]"
   ]
  },
  {
   "cell_type": "code",
   "execution_count": 38,
   "metadata": {},
   "outputs": [],
   "source": [
    "# Data_Linear=data_processor_log_reg(X_folds,Y_folds)\n",
    "# X_folds_2=Data_Linear[0]\n",
    "# Y_folds_2=Data_Linear[1]"
   ]
  },
  {
   "cell_type": "markdown",
   "metadata": {},
   "source": [
    "#### Shapes of the data\n"
   ]
  },
  {
   "cell_type": "code",
   "execution_count": 39,
   "metadata": {},
   "outputs": [
    {
     "name": "stdout",
     "output_type": "stream",
     "text": [
      "X_data 1 = (873, 32, 8)\n",
      "Y_data 1 = (873, 10)\n",
      "X_data 2 = (888, 32, 8)\n",
      "Y_data 2 = (888, 10)\n",
      "X_data 3 = (925, 32, 8)\n",
      "Y_data 3 = (925, 10)\n",
      "X_data 4 = (990, 32, 8)\n",
      "Y_data 4 = (990, 10)\n",
      "X_data 5 = (936, 32, 8)\n",
      "Y_data 5 = (936, 10)\n",
      "X_data 6 = (823, 32, 8)\n",
      "Y_data 6 = (823, 10)\n",
      "X_data 7 = (838, 32, 8)\n",
      "Y_data 7 = (838, 10)\n",
      "X_data 8 = (806, 32, 8)\n",
      "Y_data 8 = (806, 10)\n",
      "X_data 9 = (816, 32, 8)\n",
      "Y_data 9 = (816, 10)\n",
      "X_data 10 = (837, 32, 8)\n",
      "Y_data 10 = (837, 10)\n"
     ]
    }
   ],
   "source": [
    "for i in range((10)):\n",
    "    print(\"X_data\",i+1,\"=\",np.shape(X_folds_10[i]))\n",
    "    print(\"Y_data\",i+1,\"=\",np.shape(Y_folds_10[i]))"
   ]
  },
  {
   "cell_type": "markdown",
   "metadata": {},
   "source": [
    "## Defining Functions"
   ]
  },
  {
   "cell_type": "markdown",
   "metadata": {},
   "source": [
    "## Simple nn models as function"
   ]
  },
  {
   "cell_type": "code",
   "execution_count": 40,
   "metadata": {
    "scrolled": true
   },
   "outputs": [],
   "source": [
    "def Model_run_nn(model_history,model,X_folds,Y_folds,Accuracy_array,accuracy_total,end_array,Epoch_array_accuracy,Loss_array,\n",
    "             Fold_accuracy,Val_accuracy_array,Val_Loss_array):\n",
    "   \n",
    "    fold=0\n",
    "    for i in range(10):\n",
    "        start = time.time()\n",
    "        fold+=1\n",
    "        print(f\"\\nFold #{fold}\\n- - - - - - - - - - - - - - - - - - - -\")\n",
    "\n",
    "        x_train = np.vstack([X_folds[j] for j in range(0, len(Y_folds)) if i!=j])\n",
    "        y_train = np.vstack([Y_folds[j] for j in range(0, len(Y_folds)) if i!=j])\n",
    "        x_test = np.vstack([X_folds[j] for j in range(0, len(Y_folds)) if i==j])\n",
    "        y_test = np.vstack([Y_folds[j] for j in range(0, len(Y_folds)) if i==j])\n",
    "        print(x_train.shape, y_train.shape, x_test.shape, y_test.shape)\n",
    "    \n",
    "        model_history = model.fit(x_train,y_train,batch_size=Batch_size,epochs=Epoch_number,validation_data=(x_test,y_test)\n",
    "                                  ,verbose=0)\n",
    "        \n",
    "        model_evaluation = model.evaluate(x_test, y_test, verbose = 0)\n",
    "        score=model_evaluation[1]\n",
    "        accuracy_score.append(score)\n",
    "        \n",
    "        accuracy=model_history.history['accuracy']\n",
    "        accuracy_avg=np.mean(accuracy)\n",
    "        \n",
    "        Fold_accuracy.append(accuracy_avg)\n",
    "        print(f\"Accuracy of Fold {fold} is {accuracy_avg}\")\n",
    "        end = time.time()\n",
    "        print(\"Time to train Fold\", fold,\":\",round(((end)- (start)),4),\"seconds.\")\n",
    "        end_array.append(round(((end)- (start)),4))\n",
    "        \n",
    "    \n",
    "        Epoch_array=model_history.history['accuracy']\n",
    "        Epoch_array_accuracy.append(Epoch_array)\n",
    "        loss=model_history.history['loss']\n",
    "        Loss_array.append(loss)\n",
    "    \n",
    "        Epoch_val_array=model_history.history['val_accuracy']\n",
    "        Val_accuracy_array.append(Epoch_val_array)\n",
    "    \n",
    "        loss_val=model_history.history['val_loss']\n",
    "        Val_Loss_array.append(loss_val)\n",
    "    \n",
    "    Avg_Accuracy=np.mean(Fold_accuracy)       \n",
    "    Time=sum(end_array)\n",
    "    print(\"\\n - - - - - - - - - - - - - - -\\nThe average accuracy of the model:\",(Avg_Accuracy))\n",
    "    print(\"The time taken to run model:\",Time)\n",
    "    return Avg_Accuracy,Time"
   ]
  },
  {
   "cell_type": "code",
   "execution_count": 41,
   "metadata": {},
   "outputs": [],
   "source": [
    "def Model_run_nn_es(model_history,model,X_folds,Y_folds,Accuracy_array,accuracy_total,end_array,Epoch_array_accuracy,Loss_array,\n",
    "             Fold_accuracy,Val_accuracy_array,Val_Loss_array):\n",
    "    \n",
    "    for i in range(0, len(X_folds)):\n",
    "        X_folds[i]=np.reshape(X_folds[i],(X_folds[i].shape[0], 32, 8, 1))\n",
    "    fold=0\n",
    "    for i in range(10):\n",
    "        start = time.time()\n",
    "        fold+=1\n",
    "        print(f\"\\nFold #{fold}\\n- - - - - - - - - - - - - - - - - - - -\")\n",
    "\n",
    "        x_train = np.vstack([X_folds[j] for j in range(0, len(Y_folds)) if i!=j])\n",
    "        y_train = np.vstack([Y_folds[j] for j in range(0, len(Y_folds)) if i!=j])\n",
    "        x_test = np.vstack([X_folds[j] for j in range(0, len(Y_folds)) if i==j])\n",
    "        y_test = np.vstack([Y_folds[j] for j in range(0, len(Y_folds)) if i==j])\n",
    "        print(x_train.shape, y_train.shape, x_test.shape, y_test.shape)\n",
    "    \n",
    "        model_history = model.fit(x_train,y_train,epochs=Epoch_number,validation_data=(x_test,y_test)\n",
    "                                  ,verbose=0, callbacks=[early_stopping_cb])\n",
    "        \n",
    "        model_evaluation = model.evaluate(x_test, y_test, verbose = 0)\n",
    "        score=model_evaluation[1]\n",
    "        accuracy_score.append(score)\n",
    "        \n",
    "        accuracy=model_history.history['accuracy']\n",
    "        accuracy_avg=np.mean(accuracy)\n",
    "        \n",
    "        Fold_accuracy.append(accuracy_avg)\n",
    "        print(f\"Accuracy of Fold {fold} is {accuracy_avg}\")\n",
    "        end = time.time()\n",
    "        print(\"Time to train Fold\", fold,\":\",round(((end)- (start)),4),\"seconds.\")\n",
    "        end_array.append(round(((end)- (start)),4))\n",
    "        \n",
    "    \n",
    "        Epoch_array=model_history.history['accuracy']\n",
    "        Epoch_array_accuracy.append(Epoch_array)\n",
    "        loss=model_history.history['loss']\n",
    "        Loss_array.append(loss)\n",
    "    \n",
    "        Epoch_val_array=model_history.history['val_accuracy']\n",
    "        Val_accuracy_array.append(Epoch_val_array)\n",
    "    \n",
    "        loss_val=model_history.history['val_loss']\n",
    "        Val_Loss_array.append(loss_val)\n",
    "    \n",
    "    Avg_Accuracy=np.mean(Fold_accuracy)       \n",
    "    Time=sum(end_array)\n",
    "    print(\"\\n - - - - - - - - - - - - - - -\\nThe average accuracy of the model:\",(Avg_Accuracy))\n",
    "    print(\"The time taken to run model:\",Time)\n",
    "    return Avg_Accuracy,Time"
   ]
  },
  {
   "cell_type": "markdown",
   "metadata": {},
   "source": [
    "### Graph plotting function"
   ]
  },
  {
   "cell_type": "code",
   "execution_count": 42,
   "metadata": {},
   "outputs": [],
   "source": [
    "def Graph_func(Epoch_number,Epoch_array_accuracy,Val_accuracy_array,Loss_array,Val_loss_array):\n",
    "    %matplotlib inline\n",
    "    \n",
    "    fig,ax1 = plt.subplots(1, 1, constrained_layout=True, subplot_kw=dict())\n",
    "    fig.suptitle(f\"Accuracy of each Epoch for each Fold\")\n",
    "    ax1.set_xlabel(\"Epoch number\")\n",
    "    ax1.set_ylabel(\"Accuracy\")\n",
    "    ax1.grid()\n",
    "    for i in range(10):\n",
    "        ax1.plot(Epoch_array_accuracy[i],label=('Fold',i+1))\n",
    "        ax1.legend(loc='center left', bbox_to_anchor=(1, 0.5))\n",
    "\n",
    "    \n",
    "    fig,ax1 = plt.subplots(1, 1, constrained_layout=True, subplot_kw=dict())\n",
    "    fig.suptitle(f\"Accuracy of each Epoch for each Fold\")\n",
    "    ax1.set_xlabel(\"Epoch number\")\n",
    "    ax1.set_ylabel(\"Val Accuracy\")\n",
    "    ax1.grid()\n",
    "    for i in range(10):\n",
    "        ax1.plot(Val_accuracy_array[i],label=('Fold',i+1))\n",
    "        ax1.legend(loc='center left', bbox_to_anchor=(1, 0.5))\n",
    "    \n",
    "    fig1,ax2 = plt.subplots(1, 1, constrained_layout=True, subplot_kw=dict())\n",
    "    fig1.suptitle(f\"Loss of each Epoch for each Fold\")\n",
    "    ax2.set_xlabel(\"Epoch\")\n",
    "    ax2.set_ylabel(\"Loss\")\n",
    "    ax2.grid()\n",
    "    for i in range(10):\n",
    "        ax2.plot(Loss_array[i],label=('Fold',i+1))\n",
    "        ax2.legend(loc='center left', bbox_to_anchor=(1, 0.5))    \n",
    "    \n",
    "    fig1,ax2 = plt.subplots(1, 1, constrained_layout=True, subplot_kw=dict())\n",
    "    fig1.suptitle(f\"Val Loss of each Epoch for each Fold\")\n",
    "    ax2.set_xlabel(\"Epoch\")\n",
    "    ax2.set_ylabel(\"Val Loss\")\n",
    "    ax2.grid()\n",
    "    for i in range(10):\n",
    "        ax2.plot(Val_Loss_array[i],label=('Fold',i+1))\n",
    "        ax2.legend(loc='center left', bbox_to_anchor=(1, 0.5))   "
   ]
  },
  {
   "cell_type": "markdown",
   "metadata": {},
   "source": [
    "### Table making function"
   ]
  },
  {
   "cell_type": "code",
   "execution_count": 43,
   "metadata": {},
   "outputs": [],
   "source": [
    "def table_maker(Fold_accuracy,end_array,Avg_Accuracy,Time):\n",
    "    data= {'Fold': ['1','2','3','4','5','6','7','8','9','10'],\n",
    "           'Accuracy': [Fold_accuracy[0],Fold_accuracy[1],Fold_accuracy[2],Fold_accuracy[3],Fold_accuracy[4],\n",
    "                    Fold_accuracy[5],Fold_accuracy[6],Fold_accuracy[7],Fold_accuracy[8],Fold_accuracy[9]],\n",
    "           'Time Taken' :[end_array[0],end_array[1],end_array[2],end_array[3],end_array[4],end_array[5],end_array[6],end_array[7],\n",
    "                end_array[8],end_array[9]]}\n",
    "    df = pd.DataFrame(data, columns = ['Fold', 'Accuracy','Time Taken'])\n",
    "    data_avg={'Average Accuracy':[Avg_Accuracy],'Total Time':[Time]}\n",
    "    df_avg=pd.DataFrame(data_avg,columns=['Average Accuracy','Total Time'])\n",
    "    print (df)\n",
    "    print (\"\\n\",df_avg)"
   ]
  },
  {
   "cell_type": "markdown",
   "metadata": {},
   "source": [
    "### Average graph function"
   ]
  },
  {
   "cell_type": "code",
   "execution_count": 44,
   "metadata": {},
   "outputs": [],
   "source": [
    "def Graph_Avg_maker(Fold_accuracy,Avg_Accuracy):\n",
    "    %matplotlib inline\n",
    "    Fold_iteration=np.linspace(1,10,num=10)\n",
    "    fig, ax1 = plt.subplots(1, 1, constrained_layout=True, subplot_kw=dict())\n",
    "    ax1.plot(Fold_iteration,Fold_accuracy,\"gx\")\n",
    "    ax1.axhline(y=Avg_Accuracy,label='Average Accuracy')\n",
    "    fig.suptitle(f\"Results for Batch size of {Batch_size}\\n and Epoch number of {Epoch_number}\\n for Feature set 1\")\n",
    "    ax1.set_xlabel(\"Fold iteration\")\n",
    "    ax1.set_ylabel(\"Accuracy\")\n",
    "    ax1.grid()\n",
    "    ax1.legend(loc='center left', bbox_to_anchor=(1, 0.5))"
   ]
  },
  {
   "cell_type": "markdown",
   "metadata": {},
   "source": [
    "### Confusion Matrix function "
   ]
  },
  {
   "cell_type": "code",
   "execution_count": 45,
   "metadata": {},
   "outputs": [],
   "source": [
    "import sklearn\n",
    "import seaborn as sn\n",
    "import pandas as pd\n",
    "import matplotlib.pyplot as plt\n",
    "\n",
    "def Confusion_matrix(x_test, y_test_a, model=None):\n",
    "\n",
    "    if model == None:\n",
    "        return 'Please pass a defined model to this function'\n",
    "    \n",
    "    # Create predictions\n",
    "    try:\n",
    "        y_test_pred = model.predict_classes(x_test)\n",
    "    except:\n",
    "        y_test_pred = model.predict(x_test)\n",
    "    \n",
    "    # Read file with the defined classes (should be available in every folder)\n",
    "    classes = pd.read_csv(\"classes.csv\")\n",
    "    classes = classes['class'].tolist()\n",
    "    \n",
    "    # Create confusion matrix\n",
    "    array = sklearn.metrics.confusion_matrix(y_test_a, y_test_pred)\n",
    "\n",
    "    axis_labels = classes # labels for x and y axis\n",
    "\n",
    "    # create seaborn heatmap with required labels\n",
    "    plt.figure(figsize = (12, 10))\n",
    "    sn.heatmap(array, annot=True, xticklabels=axis_labels, yticklabels=axis_labels)\n",
    "    # fixing axis that are cut otherwise\n",
    "    b, t = plt.ylim()\n",
    "    b += 0.5\n",
    "    t -= 0.5\n",
    "    plt.ylim(b, t)\n",
    "    plt.show()"
   ]
  },
  {
   "cell_type": "markdown",
   "metadata": {},
   "source": [
    "# Models"
   ]
  },
  {
   "cell_type": "markdown",
   "metadata": {},
   "source": [
    "## Model 1"
   ]
  },
  {
   "cell_type": "code",
   "execution_count": 46,
   "metadata": {},
   "outputs": [],
   "source": [
    "model=Sequential()\n",
    "model.add(Flatten(input_shape=[32, 8]))\n",
    "model.add(Dense(300, activation=\"relu\"))   \n",
    "model.add(Dense(100, activation=\"relu\"))\n",
    "model.add(Dense(10, activation=\"softmax\"))\n",
    "Model=model.compile(loss = \"sparse_categorical_crossentropy\", optimizer=\"adam\", metrics = [\"accuracy\"])"
   ]
  },
  {
   "cell_type": "code",
   "execution_count": 47,
   "metadata": {
    "scrolled": true
   },
   "outputs": [
    {
     "name": "stdout",
     "output_type": "stream",
     "text": [
      "\n",
      "Fold #1\n",
      "- - - - - - - - - - - - - - - - - - - -\n",
      "(7859, 32, 8) (7859, 1) (873, 32, 8) (873, 1)\n",
      "WARNING:tensorflow:From /Users/sokratismourselas/opt/anaconda3/envs/r_env/lib/python3.7/site-packages/tensorflow_core/python/ops/math_grad.py:1424: where (from tensorflow.python.ops.array_ops) is deprecated and will be removed in a future version.\n",
      "Instructions for updating:\n",
      "Use tf.where in 2.0, which has the same broadcast rule as np.where\n",
      "WARNING:tensorflow:From /Users/sokratismourselas/opt/anaconda3/envs/r_env/lib/python3.7/site-packages/keras/backend/tensorflow_backend.py:986: The name tf.assign_add is deprecated. Please use tf.compat.v1.assign_add instead.\n",
      "\n",
      "WARNING:tensorflow:From /Users/sokratismourselas/opt/anaconda3/envs/r_env/lib/python3.7/site-packages/keras/backend/tensorflow_backend.py:973: The name tf.assign is deprecated. Please use tf.compat.v1.assign instead.\n",
      "\n",
      "WARNING:tensorflow:From /Users/sokratismourselas/opt/anaconda3/envs/r_env/lib/python3.7/site-packages/keras/backend/tensorflow_backend.py:2741: The name tf.Session is deprecated. Please use tf.compat.v1.Session instead.\n",
      "\n",
      "WARNING:tensorflow:From /Users/sokratismourselas/opt/anaconda3/envs/r_env/lib/python3.7/site-packages/keras/backend/tensorflow_backend.py:174: The name tf.get_default_session is deprecated. Please use tf.compat.v1.get_default_session instead.\n",
      "\n",
      "WARNING:tensorflow:From /Users/sokratismourselas/opt/anaconda3/envs/r_env/lib/python3.7/site-packages/keras/backend/tensorflow_backend.py:181: The name tf.ConfigProto is deprecated. Please use tf.compat.v1.ConfigProto instead.\n",
      "\n",
      "WARNING:tensorflow:From /Users/sokratismourselas/opt/anaconda3/envs/r_env/lib/python3.7/site-packages/keras/backend/tensorflow_backend.py:190: The name tf.global_variables is deprecated. Please use tf.compat.v1.global_variables instead.\n",
      "\n",
      "WARNING:tensorflow:From /Users/sokratismourselas/opt/anaconda3/envs/r_env/lib/python3.7/site-packages/keras/backend/tensorflow_backend.py:199: The name tf.is_variable_initialized is deprecated. Please use tf.compat.v1.is_variable_initialized instead.\n",
      "\n",
      "WARNING:tensorflow:From /Users/sokratismourselas/opt/anaconda3/envs/r_env/lib/python3.7/site-packages/keras/backend/tensorflow_backend.py:206: The name tf.variables_initializer is deprecated. Please use tf.compat.v1.variables_initializer instead.\n",
      "\n"
     ]
    },
    {
     "ename": "KeyError",
     "evalue": "'accuracy'",
     "output_type": "error",
     "traceback": [
      "\u001b[0;31m---------------------------------------------------------------------------\u001b[0m",
      "\u001b[0;31mKeyError\u001b[0m                                  Traceback (most recent call last)",
      "\u001b[0;32m<ipython-input-47-b20ca0b35a5e>\u001b[0m in \u001b[0;36m<module>\u001b[0;34m\u001b[0m\n\u001b[1;32m     16\u001b[0m Model=Model_run_nn(Model,model,X_folds_1,Y_folds_1,Accuracy_array,\n\u001b[1;32m     17\u001b[0m                    \u001b[0maccuracy_total\u001b[0m\u001b[0;34m,\u001b[0m\u001b[0mend_array\u001b[0m\u001b[0;34m,\u001b[0m\u001b[0mEpoch_array_accuracy\u001b[0m\u001b[0;34m,\u001b[0m\u001b[0mLoss_array\u001b[0m\u001b[0;34m,\u001b[0m\u001b[0;34m\u001b[0m\u001b[0;34m\u001b[0m\u001b[0m\n\u001b[0;32m---> 18\u001b[0;31m                    Fold_accuracy,Val_accuracy_array,Val_Loss_array)\n\u001b[0m\u001b[1;32m     19\u001b[0m \u001b[0;34m\u001b[0m\u001b[0m\n\u001b[1;32m     20\u001b[0m \u001b[0mAvg_Accuracy\u001b[0m\u001b[0;34m=\u001b[0m\u001b[0mModel\u001b[0m\u001b[0;34m[\u001b[0m\u001b[0;36m0\u001b[0m\u001b[0;34m]\u001b[0m\u001b[0;34m\u001b[0m\u001b[0;34m\u001b[0m\u001b[0m\n",
      "\u001b[0;32m<ipython-input-40-b0e182bdafc7>\u001b[0m in \u001b[0;36mModel_run_nn\u001b[0;34m(model_history, model, X_folds, Y_folds, Accuracy_array, accuracy_total, end_array, Epoch_array_accuracy, Loss_array, Fold_accuracy, Val_accuracy_array, Val_Loss_array)\u001b[0m\n\u001b[1;32m     21\u001b[0m         \u001b[0maccuracy_score\u001b[0m\u001b[0;34m.\u001b[0m\u001b[0mappend\u001b[0m\u001b[0;34m(\u001b[0m\u001b[0mscore\u001b[0m\u001b[0;34m)\u001b[0m\u001b[0;34m\u001b[0m\u001b[0;34m\u001b[0m\u001b[0m\n\u001b[1;32m     22\u001b[0m \u001b[0;34m\u001b[0m\u001b[0m\n\u001b[0;32m---> 23\u001b[0;31m         \u001b[0maccuracy\u001b[0m\u001b[0;34m=\u001b[0m\u001b[0mmodel_history\u001b[0m\u001b[0;34m.\u001b[0m\u001b[0mhistory\u001b[0m\u001b[0;34m[\u001b[0m\u001b[0;34m'accuracy'\u001b[0m\u001b[0;34m]\u001b[0m\u001b[0;34m\u001b[0m\u001b[0;34m\u001b[0m\u001b[0m\n\u001b[0m\u001b[1;32m     24\u001b[0m         \u001b[0maccuracy_avg\u001b[0m\u001b[0;34m=\u001b[0m\u001b[0mnp\u001b[0m\u001b[0;34m.\u001b[0m\u001b[0mmean\u001b[0m\u001b[0;34m(\u001b[0m\u001b[0maccuracy\u001b[0m\u001b[0;34m)\u001b[0m\u001b[0;34m\u001b[0m\u001b[0;34m\u001b[0m\u001b[0m\n\u001b[1;32m     25\u001b[0m \u001b[0;34m\u001b[0m\u001b[0m\n",
      "\u001b[0;31mKeyError\u001b[0m: 'accuracy'"
     ]
    }
   ],
   "source": [
    "Accuracy_array=[]\n",
    "accuracy_total=0\n",
    "end_array=[]\n",
    "Epoch_array_accuracy=[]\n",
    "Loss_array=[]\n",
    "Fold_accuracy=[]\n",
    "Val_accuracy_array=[]\n",
    "Val_Loss_array=[]\n",
    "Avg_Accuracy=[]\n",
    "Time=[]\n",
    "accuracy_score=[]\n",
    "\n",
    "Epoch_number=50\n",
    "Batch_size=30\n",
    "\n",
    "Model=Model_run_nn(Model,model,X_folds_1,Y_folds_1,Accuracy_array,\n",
    "                   accuracy_total,end_array,Epoch_array_accuracy,Loss_array,\n",
    "                   Fold_accuracy,Val_accuracy_array,Val_Loss_array)\n",
    "\n",
    "Avg_Accuracy=Model[0]\n",
    "Time=Model[1]"
   ]
  },
  {
   "cell_type": "code",
   "execution_count": null,
   "metadata": {},
   "outputs": [],
   "source": [
    "Graph_Epochs_model_1=Graph_func(Epoch_number,Epoch_array_accuracy,Val_accuracy_array,Loss_array,Val_Loss_array)"
   ]
  },
  {
   "cell_type": "code",
   "execution_count": null,
   "metadata": {},
   "outputs": [],
   "source": [
    "Table_model_1=table_maker(Fold_accuracy,end_array,Avg_Accuracy,Time)"
   ]
  },
  {
   "cell_type": "code",
   "execution_count": null,
   "metadata": {},
   "outputs": [],
   "source": [
    "Graph_Avg_model_1=Graph_Avg_maker(Fold_accuracy,Avg_Accuracy)"
   ]
  },
  {
   "cell_type": "markdown",
   "metadata": {},
   "source": [
    "#### Model 1 with no cross validation"
   ]
  },
  {
   "cell_type": "code",
   "execution_count": null,
   "metadata": {
    "scrolled": true
   },
   "outputs": [],
   "source": [
    "for i in range(0, len(X_folds)):\n",
    "    X_folds[i]=np.reshape(X_folds[i],(X_folds[i].shape[0], 32, 8))\n",
    "\n",
    "X_train = np.vstack([X_folds[j] for j in range(0, len(Y_folds)-1)])\n",
    "y_train = np.vstack([Y_folds[j] for j in range(0, len(Y_folds)-1)])\n",
    "X_test = X_folds[9]\n",
    "y_test = Y_folds[9]\n",
    "\n",
    "Epoch_number=30\n",
    "\n",
    "#compile model using accuracy to measure model performance\n",
    "#model.compile(optimizer='adam', loss='categorical_crossentropy', metrics=['accuracy'])\n",
    "#train the model\n",
    "cnn_model_history = model.fit(X_train, y_train, validation_data=(X_test, y_test), epochs=Epoch_number)\n",
    "score_model_1_no_cross=model.evaluate(X_test, y_test)\n",
    "accuracy_model_1_no_cross = score_model_1_no_cross[1]\n",
    "print(f\"\\nAccuracy of model 1 with no cross validation: {round(accuracy_model_1_no_cross,3)}\")"
   ]
  },
  {
   "cell_type": "markdown",
   "metadata": {},
   "source": [
    "# Model 2"
   ]
  },
  {
   "cell_type": "code",
   "execution_count": null,
   "metadata": {},
   "outputs": [],
   "source": [
    "#adding layers and forming the model_1\n",
    "#forming model_1\n",
    "model_2=Sequential()\n",
    "early_stopping_cb = EarlyStopping(patience=16, restore_best_weights=True)\n",
    "\n",
    "    #add model layers\n",
    "model_2.add(Conv2D(64, kernel_size=3, activation='relu', input_shape=(32, 8, 1)))\n",
    "model_2.add(Conv2D(32, kernel_size=3, activation='relu'))\n",
    "model_2.add(Flatten())\n",
    "model_2.add(Dense(10, activation='softmax'))\n",
    "    #compile model using accuracy to measure model performance\n",
    "Model_2=model_2.compile(optimizer='adam', loss='categorical_crossentropy', metrics=['accuracy'])\n"
   ]
  },
  {
   "cell_type": "code",
   "execution_count": null,
   "metadata": {
    "scrolled": true
   },
   "outputs": [],
   "source": [
    "Accuracy_array_2=[]\n",
    "accuracy_total_2=0\n",
    "end_array_2=[]\n",
    "\n",
    "Epoch_array_accuracy_2=[]\n",
    "Loss_array_2=[]\n",
    "Fold_accuracy_2=[]\n",
    "\n",
    "Val_accuracy_array_2=[]\n",
    "Val_Loss_array_2=[]\n",
    "\n",
    "Avg_Accuracy_2=[]\n",
    "Time_2=[]\n",
    "\n",
    "accuracy_score=[]\n",
    "Epoch_number=50\n",
    "Batch_size=30\n",
    "\n",
    "Model_2=Model_run_nn_es(Model_2,model_2,X_folds_10,Y_folds_10,Accuracy_array_2,\n",
    "                     accuracy_total_2,end_array_2,Epoch_array_accuracy_2,Loss_array_2,\n",
    "                     Fold_accuracy_2,Val_accuracy_array_2,Val_Loss_array_2)\n",
    "Avg_Accuracy_2=Model_2[0]\n",
    "Time_2=Model_2[1]"
   ]
  },
  {
   "cell_type": "code",
   "execution_count": null,
   "metadata": {
    "scrolled": true
   },
   "outputs": [],
   "source": [
    "Graph_Epochs_model_2=Graph_func(Epoch_number,Epoch_array_accuracy_2,Val_accuracy_array_2,Loss_array_2,Val_Loss_array_2) "
   ]
  },
  {
   "cell_type": "code",
   "execution_count": null,
   "metadata": {},
   "outputs": [],
   "source": [
    "Table_model_2=table_maker(Fold_accuracy_2,end_array_2,Avg_Accuracy_2,Time_2)"
   ]
  },
  {
   "cell_type": "code",
   "execution_count": null,
   "metadata": {},
   "outputs": [],
   "source": [
    "Graph_Avg_model_2=Graph_Avg_maker(Fold_accuracy_2,Avg_Accuracy_2)"
   ]
  },
  {
   "cell_type": "markdown",
   "metadata": {},
   "source": [
    "### Model 2 with no cross validation"
   ]
  },
  {
   "cell_type": "code",
   "execution_count": null,
   "metadata": {},
   "outputs": [],
   "source": [
    "for i in range(0, len(X_folds)):\n",
    "    X_folds[i]=np.reshape(X_folds[i],(X_folds[i].shape[0], 32, 8, 1))\n",
    "\n",
    "Epoch_number=30\n",
    "X_train = np.vstack([X_folds_10[j] for j in range(0, len(Y_folds_10)-1)])\n",
    "y_train = np.vstack([Y_folds_10[j] for j in range(0, len(Y_folds_10)-1)])\n",
    "X_test = X_folds_10[9]\n",
    "y_test = Y_folds_10[9]\n",
    "\n",
    "cnn_model_2_history = model_2.fit(X_train, y_train, validation_data=(X_test, y_test), epochs=Epoch_number)\n",
    "score_model_2_no_cross=model_2.evaluate(X_test, y_test)\n",
    "accuracy_model_2_no_cross = score_model_2_no_cross[1]\n",
    "print(f\"\\nAccuracy of model 2 with no cross validation: {round(accuracy_model_2_no_cross,3)}\")"
   ]
  },
  {
   "cell_type": "markdown",
   "metadata": {},
   "source": [
    "## Model 3"
   ]
  },
  {
   "cell_type": "code",
   "execution_count": null,
   "metadata": {},
   "outputs": [],
   "source": [
    "model_3=Sequential()\n",
    "early_stopping_cb = EarlyStopping(patience=17, restore_best_weights=True)\n",
    "\n",
    "model_3.add(Conv2D(32,kernel_size=5,strides=1,padding=\"Same\",activation=\"relu\",input_shape=(32,8,1)))\n",
    "model_3.add(MaxPooling2D(padding=\"same\"))\n",
    "\n",
    "model_3.add(Conv2D(64,kernel_size=5,strides=1,padding=\"same\",activation=\"relu\"))\n",
    "model_3.add(MaxPooling2D(padding=\"same\"))\n",
    "model_3.add(Dropout(0.2))\n",
    "\n",
    "model_3.add(Flatten())\n",
    "\n",
    "model_3.add(Dense(128,activation=\"relu\"))\n",
    "model_3.add(Dropout(0.2))\n",
    "\n",
    "model_3.add(Dense(10,activation=\"softmax\"))\n",
    "\n",
    "    #compiling\n",
    "Model_3=model_3.compile(optimizer=\"adam\",loss=\"categorical_crossentropy\",metrics=[\"accuracy\"])"
   ]
  },
  {
   "cell_type": "code",
   "execution_count": null,
   "metadata": {},
   "outputs": [],
   "source": [
    "Accuracy_array_3=[]\n",
    "accuracy_total_3=0\n",
    "end_array_3=[]\n",
    "\n",
    "Epoch_array_accuracy_3=[]\n",
    "Loss_array_3=[]\n",
    "Fold_accuracy_3=[]\n",
    "\n",
    "Val_accuracy_array_3=[]\n",
    "Val_Loss_array_3=[]\n",
    "\n",
    "Avg_Accuracy_3=[]\n",
    "Time_3=[]\n",
    "\n",
    "accuracy_score=[]\n",
    "Epoch_number=50\n",
    "Batch_size=30\n",
    "\n",
    "Model_3=Model_run_nn_es(Model_3,model_3,X_folds_10,Y_folds_10,Accuracy_array_3,\n",
    "                     accuracy_total_3,end_array_3,Epoch_array_accuracy_3,Loss_array_3,\n",
    "                     Fold_accuracy_3,Val_accuracy_array_3,Val_Loss_array_3)\n",
    "Avg_Accuracy_3=Model_3[0]\n",
    "Time_3=Model_3[1]"
   ]
  },
  {
   "cell_type": "code",
   "execution_count": null,
   "metadata": {},
   "outputs": [],
   "source": [
    "Graph_Epochs_model_3=Graph_func(Epoch_number,Epoch_array_accuracy_3,Val_accuracy_array_3,Loss_array_3,Val_Loss_array_3) "
   ]
  },
  {
   "cell_type": "code",
   "execution_count": null,
   "metadata": {},
   "outputs": [],
   "source": [
    "Table_model_3=table_maker(Fold_accuracy_3,end_array_3,Avg_Accuracy_3,Time_3)"
   ]
  },
  {
   "cell_type": "code",
   "execution_count": null,
   "metadata": {},
   "outputs": [],
   "source": [
    "Graph_Avg_model_3=Graph_Avg_maker(Fold_accuracy_3,Avg_Accuracy_3)"
   ]
  },
  {
   "cell_type": "code",
   "execution_count": null,
   "metadata": {},
   "outputs": [],
   "source": [
    "X_train = np.vstack([X_folds_10[j] for j in range(0, len(Y_folds_10)-1)])\n",
    "y_train = np.vstack([Y_folds_10[j] for j in range(0, len(Y_folds_10)-1)])\n",
    "X_test = X_folds_10[9]\n",
    "y_test = Y_folds_10[9]\n",
    "\n",
    "Epoch_number=30\n",
    "cnn_model_3_history = model_3.fit(X_train, y_train, validation_data=(X_test, y_test), epochs=Epoch_number)\n",
    "score_model_3_no_cross=model_3.evaluate(X_test, y_test)\n",
    "accuracy_model_3_no_cross = score_model_3_no_cross[1]\n",
    "print(f\"\\nAccuracy of model 3 with no cross validation: {round(accuracy_model_3_no_cross,3)}\")"
   ]
  },
  {
   "cell_type": "markdown",
   "metadata": {},
   "source": [
    "## Model 4"
   ]
  },
  {
   "cell_type": "code",
   "execution_count": null,
   "metadata": {},
   "outputs": [],
   "source": [
    "#adding layers and forming the model_1\n",
    "#forming model_1\n",
    "model_4=Sequential()\n",
    "\n",
    "model_4.add(Conv2D(64,kernel_size=5,strides=1,padding=\"Same\",activation=\"relu\",input_shape=(32,8,1)))\n",
    "model_4.add(MaxPooling2D(padding=\"same\"))\n",
    "\n",
    "model_4.add(Flatten())\n",
    "\n",
    "model_4.add(Dense(10,activation=\"softmax\"))\n",
    "#compiling\n",
    "Model_4=model_4.compile(optimizer=\"adam\",loss=\"categorical_crossentropy\",metrics=[\"accuracy\"])"
   ]
  },
  {
   "cell_type": "code",
   "execution_count": null,
   "metadata": {},
   "outputs": [],
   "source": [
    "Accuracy_array_4=[]\n",
    "accuracy_total_4=0\n",
    "end_array_4=[]\n",
    "\n",
    "Epoch_array_accuracy_4=[]\n",
    "Loss_array_4=[]\n",
    "Fold_accuracy_4=[]\n",
    "\n",
    "Val_accuracy_array_4=[]\n",
    "Val_Loss_array_4=[]\n",
    "\n",
    "Avg_Accuracy_4=[]\n",
    "Time_4=[]\n",
    "\n",
    "accuracy_score=[]\n",
    "Epoch_number=50\n",
    "Batch_size=30\n",
    "\n",
    "Model_4=Model_run_nn(Model_4,model_4,X_folds_10,Y_folds_10,Accuracy_array_4,\n",
    "                     accuracy_total_4,end_array_4,Epoch_array_accuracy_4,Loss_array_4,\n",
    "                     Fold_accuracy_4,Val_accuracy_array_4,Val_Loss_array_4)\n",
    "Avg_Accuracy_4=Model_4[0]\n",
    "Time_4=Model_4[1]"
   ]
  },
  {
   "cell_type": "code",
   "execution_count": null,
   "metadata": {},
   "outputs": [],
   "source": [
    "Graph_Epochs_model_4=Graph_func(Epoch_number,Epoch_array_accuracy_4,Val_accuracy_array_4,Loss_array_4,Val_Loss_array_4) "
   ]
  },
  {
   "cell_type": "code",
   "execution_count": null,
   "metadata": {},
   "outputs": [],
   "source": [
    "Table_model_4=table_maker(Fold_accuracy_4,end_array_4,Avg_Accuracy_4,Time_4)"
   ]
  },
  {
   "cell_type": "code",
   "execution_count": null,
   "metadata": {},
   "outputs": [],
   "source": [
    "Graph_Avg_model_4=Graph_Avg_maker(Fold_accuracy_4,Avg_Accuracy_4)"
   ]
  },
  {
   "cell_type": "code",
   "execution_count": null,
   "metadata": {
    "scrolled": true
   },
   "outputs": [],
   "source": [
    "X_train = np.vstack([X_folds_10[j] for j in range(0, len(Y_folds_10)-1)])\n",
    "y_train = np.vstack([Y_folds_10[j] for j in range(0, len(Y_folds_10)-1)])\n",
    "X_test = X_folds_10[9]\n",
    "y_test = Y_folds_10[9]\n",
    "\n",
    "Epoch_number=30\n",
    "cnn_model_4_history = model_4.fit(X_train, y_train, validation_data=(X_test, y_test), epochs=Epoch_number)\n",
    "score_model_4_no_cross=model_4.evaluate(X_test, y_test)\n",
    "accuracy_model_4_no_cross = score_model_4_no_cross[1]\n",
    "print(f\"\\nAccuracy of model 4 with no cross validation: {round(accuracy_model_4_no_cross,4)}\")"
   ]
  },
  {
   "cell_type": "markdown",
   "metadata": {},
   "source": [
    "## Model Comparisson"
   ]
  },
  {
   "cell_type": "code",
   "execution_count": null,
   "metadata": {},
   "outputs": [],
   "source": [
    "%matplotlib inline\n",
    "\n",
    "fig, ax1 = plt.subplots(1, 1, constrained_layout=True, subplot_kw=dict())\n",
    "\n",
    "ax1.plot(Fold_accuracy,\"rx\",label=\"Model 1\")\n",
    "ax1.axhline(y=Avg_Accuracy,label='Average Accuracy Model 1',color='r',ls=\"--\")\n",
    "ax1.axhline(y=accuracy_model_1_no_cross,label='Accuracy Model 1 no cross validation',color='r',ls=\":\")\n",
    "\n",
    "\n",
    "ax1.plot(Fold_accuracy_2,\"bx\",label=\"Model 2\")\n",
    "ax1.axhline(y=Avg_Accuracy_2,label='Average Accuracy Model 2',color='b',ls=\"--\")\n",
    "ax1.axhline(y=accuracy_model_2_no_cross,label='Accuracy Model 2 no cross validation',color='b',ls=\":\")\n",
    "\n",
    "\n",
    "#ax1.plot(Fold_accuracy_3,\"gx\",label=\"Model 3\")\n",
    "#ax1.axhline(y=Avg_Accuracy_3,label='Average Accuracy Model 3',color='g',ls=\"--\")\n",
    "#ax1.axhline(y=accuracy_model_3_no_cross,label='Accuracy Model 3 no cross validation',color='g',ls=\":\")\n",
    "\n",
    "ax1.plot(Fold_accuracy_4,\"kx\",label=\"Model 4\")\n",
    "ax1.axhline(y=Avg_Accuracy_4,label='Average Accuracy Model 4',color='k',ls=\"--\")\n",
    "ax1.axhline(y=accuracy_model_4_no_cross,label='Accuracy Model 4 no cross validation',color='k',ls=\":\")\n",
    "\n",
    "#ax1.set_title('Results for a batch size of',Batch_size,'and',Epoch_number,'.')\n",
    "fig.suptitle(f\"Model comparisson\")\n",
    "ax1.set_xlabel(\"Fold iteration\")\n",
    "ax1.set_ylabel(\"Accuracy\")\n",
    "ax1.grid()\n",
    "ax1.legend(loc='center left', bbox_to_anchor=(1, 0.5))"
   ]
  },
  {
   "cell_type": "markdown",
   "metadata": {},
   "source": [
    "# Logistic regression results"
   ]
  },
  {
   "cell_type": "code",
   "execution_count": null,
   "metadata": {},
   "outputs": [],
   "source": [
    "from sklearn.linear_model import LogisticRegression\n",
    "from sklearn import metrics\n",
    "\n",
    "X_folds, Y_folds = data_processor_log_reg(X_folds,Y_folds)\n",
    "\n",
    "X_train = np.vstack([X_folds[j] for j in range(0, len(Y_folds)-1)])\n",
    "y_train = np.vstack([Y_folds[j] for j in range(0, len(Y_folds)-1)])\n",
    "X_test = X_folds[9]\n",
    "y_test = Y_folds[9]\n",
    "\n",
    "logreg = LogisticRegression()\n",
    "logreg.fit(X_train, y_train)\n",
    "\n",
    "y_pred = logreg.predict(X_test)\n",
    "print('Accuracy of logistic regression classifier on test set: {:.2f}'.format(logreg.score(X_test, y_test)))\n",
    "\n"
   ]
  },
  {
   "cell_type": "code",
   "execution_count": null,
   "metadata": {},
   "outputs": [],
   "source": [
    "Confusion_matrix(X_test, y_test, model=logreg)"
   ]
  },
  {
   "cell_type": "code",
   "execution_count": null,
   "metadata": {},
   "outputs": [],
   "source": []
  }
 ],
 "metadata": {
  "kernelspec": {
   "display_name": "Python 3",
   "language": "python",
   "name": "python3"
  },
  "language_info": {
   "codemirror_mode": {
    "name": "ipython",
    "version": 3
   },
   "file_extension": ".py",
   "mimetype": "text/x-python",
   "name": "python",
   "nbconvert_exporter": "python",
   "pygments_lexer": "ipython3",
   "version": "3.7.5"
  }
 },
 "nbformat": 4,
 "nbformat_minor": 2
}
