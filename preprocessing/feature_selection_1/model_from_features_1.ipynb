{
 "cells": [
  {
   "cell_type": "markdown",
   "metadata": {},
   "source": [
    "# First try of 10 fold cross-validation with a simple neural network"
   ]
  },
  {
   "cell_type": "code",
   "execution_count": 13,
   "metadata": {},
   "outputs": [],
   "source": [
    "import pandas as pd\n",
    "import numpy as np\n",
    "import matplotlib.pyplot as plt\n",
    "import os\n",
    "from tqdm import tqdm\n",
    "\n",
    "from keras import Sequential\n",
    "from keras.layers import Dense,Conv2D,MaxPooling2D,Flatten,Dropout\n",
    "from keras.callbacks import EarlyStopping"
   ]
  },
  {
   "cell_type": "code",
   "execution_count": 38,
   "metadata": {},
   "outputs": [],
   "source": [
    "#extracting data from csv files into numpy arrays\n",
    "from numpy import genfromtxt\n",
    "files_data=np.array(['fold_data_1.csv','fold_data_2.csv','fold_data_3.csv','fold_data_4.csv','fold_data_5.csv',\n",
    "                'fold_data_6.csv','fold_data_7.csv','fold_data_8.csv','fold_data_9.csv','fold_data_10.csv'])\n",
    "X_folds= np.array([genfromtxt(file,delimiter=',') for file in files_data])\n",
    "\n",
    "files_label=(['fold_labels_1.csv','fold_labels_2.csv','fold_labels_3.csv','fold_labels_4.csv','fold_labels_5.csv',\n",
    "                'fold_labels_6.csv','fold_labels_7.csv','fold_labels_8.csv','fold_labels_9.csv','fold_labels_10.csv'])\n",
    "Y_folds= np.array([genfromtxt(file,delimiter=',') for file in files_label])"
   ]
  },
  {
   "cell_type": "code",
   "execution_count": 39,
   "metadata": {},
   "outputs": [],
   "source": [
    "# Reshaping Y_folds (Note: NOT for CNN)\n",
    "for i in range(0, len(Y_folds)):\n",
    "    Y_folds[i]=np.reshape(Y_folds[i],(Y_folds[i].shape[0], 1))"
   ]
  },
  {
   "cell_type": "code",
   "execution_count": 19,
   "metadata": {},
   "outputs": [],
   "source": [
    "# Changing the labels into categorical\n",
    "from keras.utils.np_utils import to_categorical\n",
    "Y_folds=([to_categorical(Y_folds, num_classes=10) for Y_folds in Y_folds])"
   ]
  },
  {
   "cell_type": "code",
   "execution_count": 40,
   "metadata": {},
   "outputs": [],
   "source": [
    "# Reshaping folds\n",
    "for i in range(0, len(X_folds)):\n",
    "    X_folds[i]=np.reshape(X_folds[i],(X_folds[i].shape[0], 40, 6))"
   ]
  },
  {
   "cell_type": "code",
   "execution_count": 41,
   "metadata": {},
   "outputs": [
    {
     "name": "stdout",
     "output_type": "stream",
     "text": [
      "Fold #1\n",
      "(7859, 40, 6)\n",
      "(7859, 1)\n",
      "WARNING:tensorflow:From /Users/sokratismourselas/opt/anaconda3/envs/r_env/lib/python3.7/site-packages/tensorflow_core/python/ops/math_grad.py:1424: where (from tensorflow.python.ops.array_ops) is deprecated and will be removed in a future version.\n",
      "Instructions for updating:\n",
      "Use tf.where in 2.0, which has the same broadcast rule as np.where\n",
      "WARNING:tensorflow:From /Users/sokratismourselas/opt/anaconda3/envs/r_env/lib/python3.7/site-packages/keras/backend/tensorflow_backend.py:986: The name tf.assign_add is deprecated. Please use tf.compat.v1.assign_add instead.\n",
      "\n",
      "WARNING:tensorflow:From /Users/sokratismourselas/opt/anaconda3/envs/r_env/lib/python3.7/site-packages/keras/backend/tensorflow_backend.py:973: The name tf.assign is deprecated. Please use tf.compat.v1.assign instead.\n",
      "\n",
      "WARNING:tensorflow:From /Users/sokratismourselas/opt/anaconda3/envs/r_env/lib/python3.7/site-packages/keras/backend/tensorflow_backend.py:2741: The name tf.Session is deprecated. Please use tf.compat.v1.Session instead.\n",
      "\n",
      "WARNING:tensorflow:From /Users/sokratismourselas/opt/anaconda3/envs/r_env/lib/python3.7/site-packages/keras/backend/tensorflow_backend.py:174: The name tf.get_default_session is deprecated. Please use tf.compat.v1.get_default_session instead.\n",
      "\n",
      "WARNING:tensorflow:From /Users/sokratismourselas/opt/anaconda3/envs/r_env/lib/python3.7/site-packages/keras/backend/tensorflow_backend.py:181: The name tf.ConfigProto is deprecated. Please use tf.compat.v1.ConfigProto instead.\n",
      "\n",
      "WARNING:tensorflow:From /Users/sokratismourselas/opt/anaconda3/envs/r_env/lib/python3.7/site-packages/keras/backend/tensorflow_backend.py:190: The name tf.global_variables is deprecated. Please use tf.compat.v1.global_variables instead.\n",
      "\n",
      "WARNING:tensorflow:From /Users/sokratismourselas/opt/anaconda3/envs/r_env/lib/python3.7/site-packages/keras/backend/tensorflow_backend.py:199: The name tf.is_variable_initialized is deprecated. Please use tf.compat.v1.is_variable_initialized instead.\n",
      "\n",
      "WARNING:tensorflow:From /Users/sokratismourselas/opt/anaconda3/envs/r_env/lib/python3.7/site-packages/keras/backend/tensorflow_backend.py:206: The name tf.variables_initializer is deprecated. Please use tf.compat.v1.variables_initializer instead.\n",
      "\n",
      "Fold score (Accuracy): 0.11454753743277656\n",
      "Fold #2\n",
      "(7844, 40, 6)\n",
      "(7844, 1)\n",
      "Fold score (Accuracy): 0.11261261261261261\n",
      "Fold #3\n",
      "(7807, 40, 6)\n",
      "(7807, 1)\n",
      "Fold score (Accuracy): 0.03891891891891892\n",
      "Fold #4\n",
      "(7742, 40, 6)\n",
      "(7742, 1)\n",
      "Fold score (Accuracy): 0.10101010119072115\n",
      "Fold #5\n",
      "(7796, 40, 6)\n",
      "(7796, 1)\n",
      "Fold score (Accuracy): 0.10683760683760683\n",
      "Fold #6\n",
      "(7909, 40, 6)\n",
      "(7909, 1)\n",
      "Fold score (Accuracy): 0.12150668289019009\n",
      "Fold #7\n",
      "(7894, 40, 6)\n",
      "(7894, 1)\n",
      "Fold score (Accuracy): 0.11933174224343675\n",
      "Fold #8\n",
      "(7926, 40, 6)\n",
      "(7926, 1)\n",
      "Fold score (Accuracy): 0.10794044665012408\n",
      "Fold #9\n",
      "(7916, 40, 6)\n",
      "(7916, 1)\n",
      "Fold score (Accuracy): 0.12254901960784313\n",
      "Fold #10\n",
      "(7895, 40, 6)\n",
      "(7895, 1)\n",
      "Fold score (Accuracy): 0.1111111111111111\n",
      "Final, out of sample score (Accuracy): 0.10563657794953411\n"
     ]
    }
   ],
   "source": [
    "# 10 fold cross-validation\n",
    "import pandas as pd\n",
    "import os\n",
    "import numpy as np\n",
    "from sklearn import metrics\n",
    "from scipy.stats import zscore\n",
    "from sklearn.model_selection import KFold\n",
    "    \n",
    "accuracy_scores = []\n",
    "\n",
    "fold = 0\n",
    "for i in range (0, len(Y_folds)) :\n",
    "    fold+=1\n",
    "    print(f\"Fold #{fold}\")\n",
    "    \n",
    "    x_train = np.vstack([X_folds[j] for j in range(0, len(Y_folds)) if i!=j])\n",
    "    y_train = np.vstack([Y_folds[j] for j in range(0, len(Y_folds)) if i!=j])\n",
    "    x_test = np.vstack([X_folds[j] for j in range(0, len(Y_folds)) if i==j])\n",
    "    y_test = np.vstack([Y_folds[j] for j in range(0, len(Y_folds)) if i==j])\n",
    "    \n",
    "    model = Sequential()\n",
    "    model.add(Flatten(input_shape=[40, 6]))\n",
    "    model.add(Dense(300, activation=\"relu\"))   \n",
    "    model.add(Dense(100, activation=\"relu\"))\n",
    "    model.add(Dense(10, activation=\"softmax\"))\n",
    "    model.compile(loss = \"sparse_categorical_crossentropy\", optimizer=\"sgd\", metrics = [\"accuracy\"])\n",
    "    model.fit(x_train,y_train,batch_size=50,epochs=30,validation_data=(x_test,y_test), verbose=0)\n",
    "    model_evaluation = model.evaluate(x_test, y_test, verbose = 0)\n",
    "    score = model_evaluation[1]\n",
    "    accuracy_scores.append(score)\n",
    "    print(\"Fold score (Accuracy): {score}\".format(score = score))\n",
    "\n",
    "# Build the oos prediction list and calculate the error.\n",
    "final_score = np.mean(accuracy_scores)\n",
    "print(f\"Final, out of sample score (Accuracy): {final_score}\")  "
   ]
  },
  {
   "cell_type": "markdown",
   "metadata": {},
   "source": [
    "# 10 fold cross-validation for a Convolutional Neural Network"
   ]
  },
  {
   "cell_type": "code",
   "execution_count": null,
   "metadata": {},
   "outputs": [],
   "source": []
  }
 ],
 "metadata": {
  "kernelspec": {
   "display_name": "Python 3",
   "language": "python",
   "name": "python3"
  },
  "language_info": {
   "codemirror_mode": {
    "name": "ipython",
    "version": 3
   },
   "file_extension": ".py",
   "mimetype": "text/x-python",
   "name": "python",
   "nbconvert_exporter": "python",
   "pygments_lexer": "ipython3",
   "version": "3.7.5"
  }
 },
 "nbformat": 4,
 "nbformat_minor": 2
}
