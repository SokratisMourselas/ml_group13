{
 "cells": [
  {
   "cell_type": "code",
   "execution_count": null,
   "metadata": {},
   "outputs": [],
   "source": [
    "import pandas as pd\n",
    "import numpy as np\n",
    "import matplotlib.pyplot as plt\n",
    "import os\n",
    "from tqdm import tqdm\n",
    "import librosa\n",
    "from keras.utils.np_utils import to_categorical\n",
    "from sklearn.model_selection import train_test_split"
   ]
  },
  {
   "cell_type": "markdown",
   "metadata": {},
   "source": [
    "#### Extracting data from csv files into numpy arrays"
   ]
  },
  {
   "cell_type": "code",
   "execution_count": null,
   "metadata": {},
   "outputs": [],
   "source": [
    "#extracting data from csv files into numpy arrays\n",
    "from numpy import genfromtxt\n",
    "files_data=np.array(['fold_data_1.csv','fold_data_2.csv','fold_data_3.csv','fold_data_4.csv','fold_data_5.csv',\n",
    "                'fold_data_6.csv','fold_data_7.csv','fold_data_8.csv','fold_data_9.csv','fold_data_10.csv'])\n",
    "X_train_data= np.array([genfromtxt(file,delimiter=',') for file in files_data])\n",
    "\n",
    "files_label=(['fold_labels_1.csv','fold_labels_2.csv','fold_labels_3.csv','fold_labels_4.csv','fold_labels_5.csv',\n",
    "                'fold_labels_6.csv','fold_labels_7.csv','fold_labels_8.csv','fold_labels_9.csv','fold_labels_10.csv'])\n",
    "Y_train_labels= np.array([genfromtxt(file,delimiter=',') for file in files_label])\n"
   ]
  },
  {
   "cell_type": "code",
   "execution_count": null,
   "metadata": {},
   "outputs": [],
   "source": [
    "print(np.shape(X_train_data[0]))"
   ]
  },
  {
   "cell_type": "markdown",
   "metadata": {},
   "source": [
    "#### Converting to Hot Encoder"
   ]
  },
  {
   "cell_type": "code",
   "execution_count": null,
   "metadata": {},
   "outputs": [],
   "source": [
    "Y_train=([to_categorical(Y_train_labels, num_classes=10) for Y_train_labels in Y_train_labels])"
   ]
  },
  {
   "cell_type": "markdown",
   "metadata": {},
   "source": [
    "#### Reshaping to 1D"
   ]
  },
  {
   "cell_type": "code",
   "execution_count": null,
   "metadata": {},
   "outputs": [],
   "source": [
    "X_train_1D=([np.reshape(X_train_data,(X_train_data.shape[0], 240, 1)) for X_train_data in X_train_data])"
   ]
  },
  {
   "cell_type": "markdown",
   "metadata": {},
   "source": [
    "#### Reshaping to 2D"
   ]
  },
  {
   "cell_type": "code",
   "execution_count": null,
   "metadata": {},
   "outputs": [],
   "source": [
    "X_train_2D=([np.reshape(X_train_1D,(X_train_1D.shape[0], 60, 4)) for X_train_1D in X_train_1D])\n",
    "print(np.shape(X_train_2D[0]))"
   ]
  },
  {
   "cell_type": "markdown",
   "metadata": {},
   "source": [
    "#### CNN formatting"
   ]
  },
  {
   "cell_type": "code",
   "execution_count": null,
   "metadata": {},
   "outputs": [],
   "source": [
    "X_train=([np.reshape(X_train_2D,(X_train_2D.shape[0],60,4,1)) for X_train_2D in X_train_2D])"
   ]
  },
  {
   "cell_type": "markdown",
   "metadata": {},
   "source": [
    "#### Shapes of the data\n"
   ]
  },
  {
   "cell_type": "code",
   "execution_count": null,
   "metadata": {},
   "outputs": [],
   "source": [
    "for i in range((10)):\n",
    "    print(\"X_data\",i+1,\"=\",np.shape(X_train[i]))\n",
    "    print(\"Y_data\",i+1,\"=\",np.shape(Y_train[i]))"
   ]
  },
  {
   "cell_type": "markdown",
   "metadata": {},
   "source": [
    "#### Model"
   ]
  },
  {
   "cell_type": "code",
   "execution_count": null,
   "metadata": {},
   "outputs": [],
   "source": [
    "from keras import Sequential\n",
    "from keras.layers import Dense,Conv2D,MaxPooling2D,Flatten,Dropout,merge"
   ]
  },
  {
   "cell_type": "code",
   "execution_count": null,
   "metadata": {},
   "outputs": [],
   "source": [
    "# Model from GitHub\n",
    "\n",
    "#adding layers and forming the model\n",
    "\n",
    "#forming model\n",
    "model=Sequential()\n",
    "\n",
    "model.add(Conv2D(64,kernel_size=5,strides=1,padding=\"Same\",activation=\"relu\",input_shape=(60,4,1)))\n",
    "model.add(MaxPooling2D(padding=\"same\"))\n",
    "\n",
    "model.add(Conv2D(128,kernel_size=5,strides=1,padding=\"same\",activation=\"relu\"))\n",
    "model.add(MaxPooling2D(padding=\"same\"))\n",
    "model.add(Dropout(0.3))\n",
    "\n",
    "model.add(Flatten())\n",
    "\n",
    "model.add(Dense(256,activation=\"relu\"))\n",
    "model.add(Dropout(0.3))\n",
    "\n",
    "model.add(Dense(512,activation=\"relu\"))\n",
    "model.add(Dropout(0.3))\n",
    "\n",
    "model.add(Dense(10,activation=\"softmax\"))\n",
    "\n",
    "#compiling\n",
    "model.compile(optimizer=\"adam\",loss=\"categorical_crossentropy\",metrics=[\"accuracy\"])"
   ]
  },
  {
   "cell_type": "code",
   "execution_count": null,
   "metadata": {},
   "outputs": [],
   "source": [
    "import numpy as np\n",
    "V=np.random.choice([0,1,2,3,4,5,6,7,8,9], 10, replace=False)\n",
    "T=np.random.choice([0,1,2,3,4,5,6,7,8,9], 10, replace=False)\n",
    "print(\"initial V\",V)\n",
    "print(\"initial T\",T)\n",
    "for i in range(10):\n",
    "    if V[i]==T[i]:\n",
    "        print(\"ERROR\\n-------\\n------\\n-------\")\n",
    "        V=np.random.choice([0,1,2,3,4,5,6,7,8,9], 10, replace=False)\n",
    "        T=np.random.choice([0,1,2,3,4,5,6,7,8,9], 10, replace=False)\n",
    "\n",
    "Val=[(V) for V in V]\n",
    "Test=[(T) for T in T]\n",
    "print(Val)\n",
    "print(Test)\n",
    "\n",
    "for i in range(10):\n",
    "    \n",
    "    F=np.array([0,1,2,3,4,5,6,7,8,9])\n",
    "    \n",
    "    F = F[F != Val[i]]\n",
    "    F = F[F != Test[i]]\n",
    "    print(\"\\nFOLD\",i+1,\"\\n- - - - - - - - - - - - - - - - - - - - \")\n",
    "    print(\"Validating of Fold:\",Val[i])\n",
    "    print(\"Testing of Fold:\",Test[i])\n",
    "    \n",
    "    Training_set=[F for F in F]\n",
    "    print(\"Training off of Folds:\",Training_set)\n",
    "    x_train = np.vstack([X_train[Training_set[0]],X_train[Training_set[1]],X_train[Training_set[2]],X_train[Training_set[3]]\n",
    "                        ,X_train[Training_set[4]],X_train[Training_set[5]],X_train[Training_set[6]],X_train[Training_set[7]]])\n",
    "    y_train = np.vstack([Y_train[Training_set[0]],Y_train[Training_set[1]],Y_train[Training_set[2]],Y_train[Training_set[3]]\n",
    "                        ,Y_train[Training_set[4]],Y_train[Training_set[5]],Y_train[Training_set[6]],Y_train[Training_set[7]]])\n",
    "   \n",
    "    print(x_train.shape)\n",
    "    print(y_train.shape)\n",
    "    model_history = model.fit(x_train,y_train,batch_size=50,epochs=30,validation_data=(X_train[Val[i]],Y_train[Val[i]]))\n",
    "    Score=model.evaluate(X_train[Test[i]], Y_train[Test[i]])\n",
    "    print(\"Accuracy of Fold\",i+1,\"=\",Score[1])"
   ]
  },
  {
   "cell_type": "code",
   "execution_count": null,
   "metadata": {},
   "outputs": [],
   "source": []
  }
 ],
 "metadata": {
  "kernelspec": {
   "display_name": "Python 3",
   "language": "python",
   "name": "python3"
  },
  "language_info": {
   "codemirror_mode": {
    "name": "ipython",
    "version": 3
   },
   "file_extension": ".py",
   "mimetype": "text/x-python",
   "name": "python",
   "nbconvert_exporter": "python",
   "pygments_lexer": "ipython3",
   "version": "3.7.3"
  }
 },
 "nbformat": 4,
 "nbformat_minor": 2
}
